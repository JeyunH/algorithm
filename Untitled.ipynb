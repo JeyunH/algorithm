{
 "cells": [
  {
   "cell_type": "code",
   "execution_count": 3,
   "id": "89608ed8-9347-49a6-bf4d-3edf3b5bfc18",
   "metadata": {},
   "outputs": [
    {
     "name": "stdout",
     "output_type": "stream",
     "text": [
      "Collecting oracledb\n",
      "  Downloading oracledb-3.1.0-cp310-cp310-win_amd64.whl.metadata (5.6 kB)\n",
      "Collecting cryptography>=3.2.1 (from oracledb)\n",
      "  Downloading cryptography-44.0.2-cp39-abi3-win_amd64.whl.metadata (5.7 kB)\n",
      "Requirement already satisfied: cffi>=1.12 in c:\\programdata\\anaconda3\\envs\\movie_env01\\lib\\site-packages (from cryptography>=3.2.1->oracledb) (1.17.1)\n",
      "Requirement already satisfied: pycparser in c:\\programdata\\anaconda3\\envs\\movie_env01\\lib\\site-packages (from cffi>=1.12->cryptography>=3.2.1->oracledb) (2.22)\n",
      "Downloading oracledb-3.1.0-cp310-cp310-win_amd64.whl (2.1 MB)\n",
      "   ---------------------------------------- 0.0/2.1 MB ? eta -:--:--\n",
      "   ---------------------------------------- 2.1/2.1 MB 60.1 MB/s eta 0:00:00\n",
      "Downloading cryptography-44.0.2-cp39-abi3-win_amd64.whl (3.2 MB)\n",
      "   ---------------------------------------- 0.0/3.2 MB ? eta -:--:--\n",
      "   ---------------------------------------- 3.2/3.2 MB 62.7 MB/s eta 0:00:00\n",
      "Installing collected packages: cryptography, oracledb\n",
      "Successfully installed cryptography-44.0.2 oracledb-3.1.0\n"
     ]
    }
   ],
   "source": [
    "!pip install oracledb"
   ]
  },
  {
   "cell_type": "code",
   "execution_count": 4,
   "id": "b95cdd73-aa31-4d0a-9351-f42c1afd5048",
   "metadata": {},
   "outputs": [
    {
     "name": "stdout",
     "output_type": "stream",
     "text": [
      "Package                   Version\n",
      "------------------------- --------------\n",
      "anyio                     4.9.0\n",
      "argon2-cffi               23.1.0\n",
      "argon2-cffi-bindings      21.2.0\n",
      "arrow                     1.3.0\n",
      "asttokens                 3.0.0\n",
      "async-lru                 2.0.5\n",
      "attrs                     25.3.0\n",
      "babel                     2.17.0\n",
      "beautifulsoup4            4.13.4\n",
      "bleach                    6.2.0\n",
      "certifi                   2025.4.26\n",
      "cffi                      1.17.1\n",
      "chardet                   5.2.0\n",
      "charset-normalizer        3.4.1\n",
      "colorama                  0.4.6\n",
      "comm                      0.2.2\n",
      "cryptography              44.0.2\n",
      "debugpy                   1.8.14\n",
      "decorator                 5.2.1\n",
      "defusedxml                0.7.1\n",
      "exceptiongroup            1.2.2\n",
      "executing                 2.2.0\n",
      "fastjsonschema            2.21.1\n",
      "fqdn                      1.5.1\n",
      "h11                       0.16.0\n",
      "httpcore                  1.0.9\n",
      "httpx                     0.28.1\n",
      "idna                      3.10\n",
      "ipykernel                 6.29.5\n",
      "ipython                   8.36.0\n",
      "ipywidgets                8.1.6\n",
      "isoduration               20.11.0\n",
      "jedi                      0.19.2\n",
      "Jinja2                    3.1.6\n",
      "json5                     0.12.0\n",
      "jsonpointer               3.0.0\n",
      "jsonschema                4.23.0\n",
      "jsonschema-specifications 2025.4.1\n",
      "jupyter                   1.1.1\n",
      "jupyter_client            8.6.3\n",
      "jupyter-console           6.6.3\n",
      "jupyter_core              5.7.2\n",
      "jupyter-events            0.12.0\n",
      "jupyter-lsp               2.2.5\n",
      "jupyter_server            2.15.0\n",
      "jupyter_server_terminals  0.5.3\n",
      "jupyterlab                4.4.1\n",
      "jupyterlab_pygments       0.3.0\n",
      "jupyterlab_server         2.27.3\n",
      "jupyterlab_widgets        3.0.14\n",
      "MarkupSafe                3.0.2\n",
      "matplotlib-inline         0.1.7\n",
      "mistune                   3.1.3\n",
      "nbclient                  0.10.2\n",
      "nbconvert                 7.16.6\n",
      "nbformat                  5.10.4\n",
      "nest-asyncio              1.6.0\n",
      "notebook                  7.4.1\n",
      "notebook_shim             0.2.4\n",
      "oracledb                  3.1.0\n",
      "overrides                 7.7.0\n",
      "packaging                 25.0\n",
      "pandocfilters             1.5.1\n",
      "parso                     0.8.4\n",
      "pip                       25.0\n",
      "platformdirs              4.3.7\n",
      "prometheus_client         0.21.1\n",
      "prompt_toolkit            3.0.51\n",
      "psutil                    7.0.0\n",
      "pure_eval                 0.2.3\n",
      "pycparser                 2.22\n",
      "Pygments                  2.19.1\n",
      "python-dateutil           2.9.0.post0\n",
      "python-json-logger        3.3.0\n",
      "pywin32                   310\n",
      "pywinpty                  2.0.15\n",
      "PyYAML                    6.0.2\n",
      "pyzmq                     26.4.0\n",
      "referencing               0.36.2\n",
      "requests                  2.32.3\n",
      "rfc3339-validator         0.1.4\n",
      "rfc3986-validator         0.1.1\n",
      "rpds-py                   0.24.0\n",
      "Send2Trash                1.8.3\n",
      "setuptools                75.8.0\n",
      "six                       1.17.0\n",
      "sniffio                   1.3.1\n",
      "soupsieve                 2.7\n",
      "stack-data                0.6.3\n",
      "terminado                 0.18.1\n",
      "tinycss2                  1.4.0\n",
      "tomli                     2.2.1\n",
      "tornado                   6.4.2\n",
      "traitlets                 5.14.3\n",
      "types-python-dateutil     2.9.0.20241206\n",
      "typing_extensions         4.13.2\n",
      "uri-template              1.3.0\n",
      "urllib3                   2.4.0\n",
      "wcwidth                   0.2.13\n",
      "webcolors                 24.11.1\n",
      "webencodings              0.5.1\n",
      "websocket-client          1.8.0\n",
      "wheel                     0.45.1\n",
      "widgetsnbextension        4.0.14\n"
     ]
    }
   ],
   "source": [
    "!pip list"
   ]
  },
  {
   "cell_type": "code",
   "execution_count": 5,
   "id": "4369e3c2-6257-4cbe-acd0-3499847774d3",
   "metadata": {},
   "outputs": [
    {
     "name": "stdout",
     "output_type": "stream",
     "text": [
      "Collecting cmake\n",
      "  Downloading cmake-4.0.0-py3-none-win_amd64.whl.metadata (6.3 kB)\n",
      "Downloading cmake-4.0.0-py3-none-win_amd64.whl (36.7 MB)\n",
      "   ---------------------------------------- 0.0/36.7 MB ? eta -:--:--\n",
      "   ----- ---------------------------------- 5.2/36.7 MB 29.1 MB/s eta 0:00:02\n",
      "   ----------------- ---------------------- 15.7/36.7 MB 39.7 MB/s eta 0:00:01\n",
      "   ------------------------------------ --- 33.3/36.7 MB 55.7 MB/s eta 0:00:01\n",
      "   ---------------------------------------- 36.7/36.7 MB 54.2 MB/s eta 0:00:00\n",
      "Installing collected packages: cmake\n",
      "Successfully installed cmake-4.0.0\n"
     ]
    }
   ],
   "source": [
    "!pip install cmake"
   ]
  },
  {
   "cell_type": "code",
   "execution_count": 6,
   "id": "75eb09b3-4539-4a38-8d5d-aa73583b7cac",
   "metadata": {},
   "outputs": [
    {
     "name": "stdout",
     "output_type": "stream",
     "text": [
      "Collecting kiwipiepy\n",
      "  Downloading kiwipiepy-0.20.4-cp310-cp310-win_amd64.whl.metadata (1.3 kB)\n",
      "Collecting kiwipiepy_model<0.21,>=0.20 (from kiwipiepy)\n",
      "  Downloading kiwipiepy_model-0.20.0.tar.gz (34.7 MB)\n",
      "     ---------------------------------------- 0.0/34.7 MB ? eta -:--:--\n",
      "     ----- ---------------------------------- 4.5/34.7 MB 24.4 MB/s eta 0:00:02\n",
      "     ---------------------- ---------------- 20.4/34.7 MB 53.8 MB/s eta 0:00:01\n",
      "     --------------------------------------- 34.7/34.7 MB 63.0 MB/s eta 0:00:00\n",
      "  Preparing metadata (setup.py): started\n",
      "  Preparing metadata (setup.py): finished with status 'done'\n",
      "Collecting numpy (from kiwipiepy)\n",
      "  Downloading numpy-2.2.5-cp310-cp310-win_amd64.whl.metadata (60 kB)\n",
      "Collecting tqdm (from kiwipiepy)\n",
      "  Downloading tqdm-4.67.1-py3-none-any.whl.metadata (57 kB)\n",
      "Requirement already satisfied: colorama in c:\\programdata\\anaconda3\\envs\\movie_env01\\lib\\site-packages (from tqdm->kiwipiepy) (0.4.6)\n",
      "Downloading kiwipiepy-0.20.4-cp310-cp310-win_amd64.whl (1.4 MB)\n",
      "   ---------------------------------------- 0.0/1.4 MB ? eta -:--:--\n",
      "   ---------------------------------------- 1.4/1.4 MB 74.1 MB/s eta 0:00:00\n",
      "Downloading numpy-2.2.5-cp310-cp310-win_amd64.whl (12.9 MB)\n",
      "   ---------------------------------------- 0.0/12.9 MB ? eta -:--:--\n",
      "   ---------------------------------------- 12.9/12.9 MB 90.6 MB/s eta 0:00:00\n",
      "Downloading tqdm-4.67.1-py3-none-any.whl (78 kB)\n",
      "Building wheels for collected packages: kiwipiepy_model\n",
      "  Building wheel for kiwipiepy_model (setup.py): started\n",
      "  Building wheel for kiwipiepy_model (setup.py): finished with status 'done'\n",
      "  Created wheel for kiwipiepy_model: filename=kiwipiepy_model-0.20.0-py3-none-any.whl size=34818088 sha256=ef04774d74df3d589b607842fa9460b11f2f63b953b327bdb6ffd7f49f2182bb\n",
      "  Stored in directory: c:\\users\\user\\appdata\\local\\pip\\cache\\wheels\\b6\\b1\\66\\2be9840f8ef3627d63d93503d81a5e3b41e9498dcb63b00b13\n",
      "Successfully built kiwipiepy_model\n",
      "Installing collected packages: kiwipiepy_model, tqdm, numpy, kiwipiepy\n",
      "Successfully installed kiwipiepy-0.20.4 kiwipiepy_model-0.20.0 numpy-2.2.5 tqdm-4.67.1\n"
     ]
    }
   ],
   "source": [
    "!pip install kiwipiepy"
   ]
  },
  {
   "cell_type": "code",
   "execution_count": 7,
   "id": "04642851-82dd-49b5-883f-5e7036eed040",
   "metadata": {},
   "outputs": [
    {
     "name": "stdout",
     "output_type": "stream",
     "text": [
      "Collecting pandas\n",
      "  Downloading pandas-2.2.3-cp310-cp310-win_amd64.whl.metadata (19 kB)\n",
      "Requirement already satisfied: numpy>=1.22.4 in c:\\programdata\\anaconda3\\envs\\movie_env01\\lib\\site-packages (from pandas) (2.2.5)\n",
      "Requirement already satisfied: python-dateutil>=2.8.2 in c:\\programdata\\anaconda3\\envs\\movie_env01\\lib\\site-packages (from pandas) (2.9.0.post0)\n",
      "Collecting pytz>=2020.1 (from pandas)\n",
      "  Downloading pytz-2025.2-py2.py3-none-any.whl.metadata (22 kB)\n",
      "Collecting tzdata>=2022.7 (from pandas)\n",
      "  Downloading tzdata-2025.2-py2.py3-none-any.whl.metadata (1.4 kB)\n",
      "Requirement already satisfied: six>=1.5 in c:\\programdata\\anaconda3\\envs\\movie_env01\\lib\\site-packages (from python-dateutil>=2.8.2->pandas) (1.17.0)\n",
      "Downloading pandas-2.2.3-cp310-cp310-win_amd64.whl (11.6 MB)\n",
      "   ---------------------------------------- 0.0/11.6 MB ? eta -:--:--\n",
      "   ---------------------------------------- 11.6/11.6 MB 81.0 MB/s eta 0:00:00\n",
      "Downloading pytz-2025.2-py2.py3-none-any.whl (509 kB)\n",
      "Downloading tzdata-2025.2-py2.py3-none-any.whl (347 kB)\n",
      "Installing collected packages: pytz, tzdata, pandas\n",
      "Successfully installed pandas-2.2.3 pytz-2025.2 tzdata-2025.2\n"
     ]
    }
   ],
   "source": [
    "!pip install pandas"
   ]
  },
  {
   "cell_type": "code",
   "execution_count": 8,
   "id": "17e6775d-05d0-45c0-bd1c-8376f5476cc3",
   "metadata": {},
   "outputs": [
    {
     "name": "stdout",
     "output_type": "stream",
     "text": [
      "Requirement already satisfied: tqdm in c:\\programdata\\anaconda3\\envs\\movie_env01\\lib\\site-packages (4.67.1)\n",
      "Requirement already satisfied: colorama in c:\\programdata\\anaconda3\\envs\\movie_env01\\lib\\site-packages (from tqdm) (0.4.6)\n"
     ]
    }
   ],
   "source": [
    "!pip install tqdm"
   ]
  },
  {
   "cell_type": "code",
   "execution_count": 9,
   "id": "011b2ea7-523c-409c-978c-511e6c8f2281",
   "metadata": {},
   "outputs": [
    {
     "name": "stdout",
     "output_type": "stream",
     "text": [
      "Collecting gensim\n",
      "  Downloading gensim-4.3.3-cp310-cp310-win_amd64.whl.metadata (8.2 kB)\n",
      "Collecting numpy<2.0,>=1.18.5 (from gensim)\n",
      "  Downloading numpy-1.26.4-cp310-cp310-win_amd64.whl.metadata (61 kB)\n",
      "Collecting scipy<1.14.0,>=1.7.0 (from gensim)\n",
      "  Downloading scipy-1.13.1-cp310-cp310-win_amd64.whl.metadata (60 kB)\n",
      "Collecting smart-open>=1.8.1 (from gensim)\n",
      "  Downloading smart_open-7.1.0-py3-none-any.whl.metadata (24 kB)\n",
      "Collecting wrapt (from smart-open>=1.8.1->gensim)\n",
      "  Using cached wrapt-1.17.2-cp310-cp310-win_amd64.whl.metadata (6.5 kB)\n",
      "Downloading gensim-4.3.3-cp310-cp310-win_amd64.whl (24.0 MB)\n",
      "   ---------------------------------------- 0.0/24.0 MB ? eta -:--:--\n",
      "   --------------------------- ------------ 16.8/24.0 MB 81.4 MB/s eta 0:00:01\n",
      "   ---------------------------------------- 24.0/24.0 MB 84.2 MB/s eta 0:00:00\n",
      "Downloading numpy-1.26.4-cp310-cp310-win_amd64.whl (15.8 MB)\n",
      "   ---------------------------------------- 0.0/15.8 MB ? eta -:--:--\n",
      "   ----------------------------------- ---- 13.9/15.8 MB 67.2 MB/s eta 0:00:01\n",
      "   ---------------------------------------- 15.8/15.8 MB 62.2 MB/s eta 0:00:00\n",
      "Downloading scipy-1.13.1-cp310-cp310-win_amd64.whl (46.2 MB)\n",
      "   ---------------------------------------- 0.0/46.2 MB ? eta -:--:--\n",
      "   ------------- -------------------------- 15.5/46.2 MB 81.3 MB/s eta 0:00:01\n",
      "   -------------------------- ------------- 30.9/46.2 MB 75.5 MB/s eta 0:00:01\n",
      "   ---------------------------------------  46.1/46.2 MB 75.3 MB/s eta 0:00:01\n",
      "   ---------------------------------------- 46.2/46.2 MB 68.4 MB/s eta 0:00:00\n",
      "Downloading smart_open-7.1.0-py3-none-any.whl (61 kB)\n",
      "Using cached wrapt-1.17.2-cp310-cp310-win_amd64.whl (38 kB)\n",
      "Installing collected packages: wrapt, numpy, smart-open, scipy, gensim\n",
      "  Attempting uninstall: numpy\n",
      "    Found existing installation: numpy 2.2.5\n",
      "    Uninstalling numpy-2.2.5:\n",
      "      Successfully uninstalled numpy-2.2.5\n",
      "Successfully installed gensim-4.3.3 numpy-1.26.4 scipy-1.13.1 smart-open-7.1.0 wrapt-1.17.2\n"
     ]
    }
   ],
   "source": [
    "!pip install gensim"
   ]
  },
  {
   "cell_type": "code",
   "execution_count": 10,
   "id": "5f655c5b-d2ef-4dce-b638-f756fae540b2",
   "metadata": {},
   "outputs": [],
   "source": [
    "import os\n",
    "import oracledb\n",
    "import time\n",
    "import pandas as pd\n",
    "import numpy as np\n",
    "from tqdm.notebook import tqdm\n",
    "from gensim.models.word2vec import Word2Vec\n",
    "from kiwipiepy import Kiwi\n",
    "import pickle"
   ]
  },
  {
   "cell_type": "code",
   "execution_count": 12,
   "id": "9abb1601-0236-4570-b57d-38b272dd25a5",
   "metadata": {},
   "outputs": [
    {
     "data": {
      "text/plain": [
       "<oracledb.Connection to movie_scott@(DESCRIPTION=(ADDRESS=(PROTOCOL=TCP)(HOST=localhost)(PORT=1521))(CONNECT_DATA=(SERVICE_NAME=XEPDB1)))>"
      ]
     },
     "execution_count": 12,
     "metadata": {},
     "output_type": "execute_result"
    }
   ],
   "source": [
    "dsn1 = oracledb.makedsn(\"localhost\", 1521, service_name = \"XEPDB1\")\n",
    "username = \"movie_scott\"\n",
    "user_pass = \"8835\"\n",
    "\n",
    "connection = oracledb.connect(user = username, password = user_pass, dsn=dsn1)\n",
    "\n",
    "connection"
   ]
  },
  {
   "cell_type": "code",
   "execution_count": 14,
   "id": "74457f62-13f2-45ef-95bf-bfffba1254c9",
   "metadata": {},
   "outputs": [
    {
     "name": "stderr",
     "output_type": "stream",
     "text": [
      "C:\\Users\\Public\\Documents\\ESTsoft\\CreatorTemp\\ipykernel_8912\\1712356304.py:2: UserWarning: pandas only supports SQLAlchemy connectable (engine/connection) or database string URI or sqlite3 DBAPI2 connection. Other DBAPI2 objects are not tested. Please consider using SQLAlchemy.\n",
      "  movie_df = pd.read_sql(query, con=connection)\n"
     ]
    },
    {
     "data": {
      "text/html": [
       "<div>\n",
       "<style scoped>\n",
       "    .dataframe tbody tr th:only-of-type {\n",
       "        vertical-align: middle;\n",
       "    }\n",
       "\n",
       "    .dataframe tbody tr th {\n",
       "        vertical-align: top;\n",
       "    }\n",
       "\n",
       "    .dataframe thead th {\n",
       "        text-align: right;\n",
       "    }\n",
       "</style>\n",
       "<table border=\"1\" class=\"dataframe\">\n",
       "  <thead>\n",
       "    <tr style=\"text-align: right;\">\n",
       "      <th></th>\n",
       "      <th>NUM</th>\n",
       "      <th>TITLE</th>\n",
       "      <th>DIRECTOR</th>\n",
       "      <th>ACTOR</th>\n",
       "      <th>SYNOPSIS</th>\n",
       "    </tr>\n",
       "  </thead>\n",
       "  <tbody>\n",
       "    <tr>\n",
       "      <th>0</th>\n",
       "      <td>1</td>\n",
       "      <td>파묘</td>\n",
       "      <td>장재현</td>\n",
       "      <td>최민식,김고은,유해진,이도현,김재철,김민준,김병오,전진기,박정자,박지일,이종구,이영...</td>\n",
       "      <td>미국 LA 거액의 의뢰를 받은 무당 화림(김고은)과 봉길(이도현)은 기이한 병이 대...</td>\n",
       "    </tr>\n",
       "    <tr>\n",
       "      <th>1</th>\n",
       "      <td>2</td>\n",
       "      <td>범죄도시4</td>\n",
       "      <td>허명행</td>\n",
       "      <td>김무열,박지환,이동휘,마동석,곽자형,이범수,김민재,이지훈,이주빈,김도건,김지훈,현봉...</td>\n",
       "      <td>신종 마약 사건 3년 뒤 괴물형사 마석도(마동석)와 서울 광수대는 배달앱을 이용한 ...</td>\n",
       "    </tr>\n",
       "    <tr>\n",
       "      <th>2</th>\n",
       "      <td>3</td>\n",
       "      <td>인사이드 아웃 2</td>\n",
       "      <td>켈시 만</td>\n",
       "      <td>에이미 포엘러,토니 헤일</td>\n",
       "      <td>디즈니픽사의 대표작 인사이드 아웃 새로운 감정과 함께 돌아오다 13살이 된 라일리의...</td>\n",
       "    </tr>\n",
       "    <tr>\n",
       "      <th>3</th>\n",
       "      <td>4</td>\n",
       "      <td>베테랑2</td>\n",
       "      <td>류승완</td>\n",
       "      <td>황정민,정해인,장윤주,정만식,신승환,오달수,오대환,김시후,안보현,진경,권해효,변홍준...</td>\n",
       "      <td>가족들도 못 챙기고 밤낮없이 범죄들과 싸우는 베테랑 형사 서도철(황정민)과 강력범죄...</td>\n",
       "    </tr>\n",
       "    <tr>\n",
       "      <th>4</th>\n",
       "      <td>5</td>\n",
       "      <td>파일럿</td>\n",
       "      <td>김한결</td>\n",
       "      <td>조정석,이주명,한선화,신승호,오민애,김지현,서재희,박다온,현봉식,서현철,유재석,조세...</td>\n",
       "      <td>하루 아침에 인생 추락한 스타 파일럿 제 2의 인생 이륙 준비 중 최고의 비행 실력...</td>\n",
       "    </tr>\n",
       "  </tbody>\n",
       "</table>\n",
       "</div>"
      ],
      "text/plain": [
       "   NUM      TITLE DIRECTOR                                              ACTOR  \\\n",
       "0    1         파묘      장재현  최민식,김고은,유해진,이도현,김재철,김민준,김병오,전진기,박정자,박지일,이종구,이영...   \n",
       "1    2      범죄도시4      허명행  김무열,박지환,이동휘,마동석,곽자형,이범수,김민재,이지훈,이주빈,김도건,김지훈,현봉...   \n",
       "2    3  인사이드 아웃 2     켈시 만                                      에이미 포엘러,토니 헤일   \n",
       "3    4       베테랑2      류승완  황정민,정해인,장윤주,정만식,신승환,오달수,오대환,김시후,안보현,진경,권해효,변홍준...   \n",
       "4    5        파일럿      김한결  조정석,이주명,한선화,신승호,오민애,김지현,서재희,박다온,현봉식,서현철,유재석,조세...   \n",
       "\n",
       "                                            SYNOPSIS  \n",
       "0  미국 LA 거액의 의뢰를 받은 무당 화림(김고은)과 봉길(이도현)은 기이한 병이 대...  \n",
       "1  신종 마약 사건 3년 뒤 괴물형사 마석도(마동석)와 서울 광수대는 배달앱을 이용한 ...  \n",
       "2  디즈니픽사의 대표작 인사이드 아웃 새로운 감정과 함께 돌아오다 13살이 된 라일리의...  \n",
       "3  가족들도 못 챙기고 밤낮없이 범죄들과 싸우는 베테랑 형사 서도철(황정민)과 강력범죄...  \n",
       "4  하루 아침에 인생 추락한 스타 파일럿 제 2의 인생 이륙 준비 중 최고의 비행 실력...  "
      ]
     },
     "execution_count": 14,
     "metadata": {},
     "output_type": "execute_result"
    }
   ],
   "source": [
    "query = \"SELECT num, title, director, actor, synopsis FROM movie_tbl order by num\"\n",
    "movie_df = pd.read_sql(query, con=connection)\n",
    "\n",
    "movie_df.head()"
   ]
  },
  {
   "cell_type": "code",
   "execution_count": 15,
   "id": "7c0ed1eb-2dbf-4e63-b208-133198fe6e9c",
   "metadata": {},
   "outputs": [],
   "source": [
    "kiwi = Kiwi()"
   ]
  },
  {
   "cell_type": "code",
   "execution_count": 16,
   "id": "34d0700d-3c2e-4630-b41f-56055c4f6ddd",
   "metadata": {},
   "outputs": [
    {
     "data": {
      "text/plain": [
       "[Token(form='아버지', tag='NNG', start=0, len=3),\n",
       " Token(form='가', tag='JKS', start=3, len=1),\n",
       " Token(form='방', tag='NNG', start=5, len=1),\n",
       " Token(form='에', tag='JKB', start=6, len=1),\n",
       " Token(form='들어가', tag='VV', start=8, len=3),\n",
       " Token(form='시', tag='EP', start=11, len=1),\n",
       " Token(form='ᆫ다', tag='EF', start=11, len=2),\n",
       " Token(form='그래서', tag='MAJ', start=14, len=3),\n",
       " Token(form='슬프', tag='VA', start=18, len=2),\n",
       " Token(form='다', tag='EC', start=20, len=1),\n",
       " Token(form='배', tag='NNG', start=22, len=1),\n",
       " Token(form='가', tag='JKS', start=23, len=1),\n",
       " Token(form='아프', tag='VA', start=25, len=2),\n",
       " Token(form='어요', tag='EF', start=26, len=2)]"
      ]
     },
     "execution_count": 16,
     "metadata": {},
     "output_type": "execute_result"
    }
   ],
   "source": [
    "kiwi.tokenize(\"아버지가 방에 들어가신다 그래서 슬프다 배가 아파요\")"
   ]
  },
  {
   "cell_type": "code",
   "execution_count": 19,
   "id": "6d0a97d0-27c0-473e-aaca-64d552955ab0",
   "metadata": {},
   "outputs": [],
   "source": [
    "def preprocessingText(text):\n",
    "    stems = []\n",
    "    tagged_review = kiwi.tokenize(text)\n",
    "    for token in tagged_review:\n",
    "        word, pos = token.form, token.tag\n",
    "\n",
    "        if len(word) >= 2 and (pos == \"NNG\" or pos == \"NNP\" or pos == \"VA\"):\n",
    "            stems.append(word)\n",
    "    return \" \".join(stems)"
   ]
  },
  {
   "cell_type": "code",
   "execution_count": 20,
   "id": "493070d8-fa46-4b97-a1f1-277bc7f90bef",
   "metadata": {},
   "outputs": [
    {
     "data": {
      "text/plain": [
       "'아버지 슬프 아프'"
      ]
     },
     "execution_count": 20,
     "metadata": {},
     "output_type": "execute_result"
    }
   ],
   "source": [
    "preprocessingText(\"아버지가 방에 들어가신다 그래서 슬펐다 배가 아파요\")"
   ]
  },
  {
   "cell_type": "code",
   "execution_count": 25,
   "id": "2030ee3a-ca6b-4df3-a53e-205e869066a2",
   "metadata": {},
   "outputs": [
    {
     "data": {
      "text/plain": [
       "'미국 LA 거액의 의뢰를 받은 무당 화림(김고은)과 봉길(이도현)은 기이한 병이 대물림되는 집안의 장손을 만난다 조상의 묫자리가 화근임을 알아챈 화림은 이장을 권하고 돈 냄새를 맡은 최고의 풍수사 상덕(최민식)과 장의사 영근(유해진)이 합류한다 전부 잘 알 거야 묘 하나 잘못 건들면 어떻게 되는지 절대 사람이 묻힐 수 없는 악지에 자리한 기이한 묘 상덕은 불길한 기운을 느끼고 제안을 거절하지만 화림의 설득으로 결국 파묘가 시작되고 나와서는 안될 것이 나왔다'"
      ]
     },
     "execution_count": 25,
     "metadata": {},
     "output_type": "execute_result"
    }
   ],
   "source": [
    "movie_df.loc[0, 'SYNOPSIS']"
   ]
  },
  {
   "cell_type": "code",
   "execution_count": 26,
   "id": "ccfd2f7f-0371-45d8-965a-ab94f2aee9ef",
   "metadata": {},
   "outputs": [
    {
     "data": {
      "text/plain": [
       "'미국 거액 의뢰 무당 화림 김고은 봉길 이도현 대물림 집안 장손 조상 자리 화근 냄새 최고 풍수 상덕 최민식 장의사 유해진 합류 사람 악지 자리 상덕 기운 제안 거절 화림 설득 결국 파묘 시작'"
      ]
     },
     "execution_count": 26,
     "metadata": {},
     "output_type": "execute_result"
    }
   ],
   "source": [
    "preprocessingText(movie_df.loc[0, 'SYNOPSIS'])"
   ]
  },
  {
   "cell_type": "code",
   "execution_count": 40,
   "id": "bf0ed38e-b806-459b-93a6-75d8c2e0981e",
   "metadata": {},
   "outputs": [],
   "source": [
    "#movie_df[\"SYNOPSIS_CLEAR\"] = np.NaN\n",
    "# 위 코드는 float 타입으로 지정된 건데, 나중에 넣을 값이 문자열이므로 np.NaN 보다는 그냥 \"\" 를 입력하는게 현명함\n",
    "movie_df[\"SYNOPSIS_CLEAR\"] = \"\""
   ]
  },
  {
   "cell_type": "code",
   "execution_count": 41,
   "id": "4deebb66-625a-4db9-b5ae-123a8319bcf6",
   "metadata": {},
   "outputs": [
    {
     "data": {
      "text/html": [
       "<div>\n",
       "<style scoped>\n",
       "    .dataframe tbody tr th:only-of-type {\n",
       "        vertical-align: middle;\n",
       "    }\n",
       "\n",
       "    .dataframe tbody tr th {\n",
       "        vertical-align: top;\n",
       "    }\n",
       "\n",
       "    .dataframe thead th {\n",
       "        text-align: right;\n",
       "    }\n",
       "</style>\n",
       "<table border=\"1\" class=\"dataframe\">\n",
       "  <thead>\n",
       "    <tr style=\"text-align: right;\">\n",
       "      <th></th>\n",
       "      <th>NUM</th>\n",
       "      <th>TITLE</th>\n",
       "      <th>DIRECTOR</th>\n",
       "      <th>ACTOR</th>\n",
       "      <th>SYNOPSIS</th>\n",
       "      <th>SYNOPSIS_CLEAR</th>\n",
       "    </tr>\n",
       "  </thead>\n",
       "  <tbody>\n",
       "    <tr>\n",
       "      <th>0</th>\n",
       "      <td>1</td>\n",
       "      <td>파묘</td>\n",
       "      <td>장재현</td>\n",
       "      <td>최민식,김고은,유해진,이도현,김재철,김민준,김병오,전진기,박정자,박지일,이종구,이영...</td>\n",
       "      <td>미국 LA 거액의 의뢰를 받은 무당 화림(김고은)과 봉길(이도현)은 기이한 병이 대...</td>\n",
       "      <td></td>\n",
       "    </tr>\n",
       "    <tr>\n",
       "      <th>1</th>\n",
       "      <td>2</td>\n",
       "      <td>범죄도시4</td>\n",
       "      <td>허명행</td>\n",
       "      <td>김무열,박지환,이동휘,마동석,곽자형,이범수,김민재,이지훈,이주빈,김도건,김지훈,현봉...</td>\n",
       "      <td>신종 마약 사건 3년 뒤 괴물형사 마석도(마동석)와 서울 광수대는 배달앱을 이용한 ...</td>\n",
       "      <td></td>\n",
       "    </tr>\n",
       "    <tr>\n",
       "      <th>2</th>\n",
       "      <td>3</td>\n",
       "      <td>인사이드 아웃 2</td>\n",
       "      <td>켈시 만</td>\n",
       "      <td>에이미 포엘러,토니 헤일</td>\n",
       "      <td>디즈니픽사의 대표작 인사이드 아웃 새로운 감정과 함께 돌아오다 13살이 된 라일리의...</td>\n",
       "      <td></td>\n",
       "    </tr>\n",
       "    <tr>\n",
       "      <th>3</th>\n",
       "      <td>4</td>\n",
       "      <td>베테랑2</td>\n",
       "      <td>류승완</td>\n",
       "      <td>황정민,정해인,장윤주,정만식,신승환,오달수,오대환,김시후,안보현,진경,권해효,변홍준...</td>\n",
       "      <td>가족들도 못 챙기고 밤낮없이 범죄들과 싸우는 베테랑 형사 서도철(황정민)과 강력범죄...</td>\n",
       "      <td></td>\n",
       "    </tr>\n",
       "    <tr>\n",
       "      <th>4</th>\n",
       "      <td>5</td>\n",
       "      <td>파일럿</td>\n",
       "      <td>김한결</td>\n",
       "      <td>조정석,이주명,한선화,신승호,오민애,김지현,서재희,박다온,현봉식,서현철,유재석,조세...</td>\n",
       "      <td>하루 아침에 인생 추락한 스타 파일럿 제 2의 인생 이륙 준비 중 최고의 비행 실력...</td>\n",
       "      <td></td>\n",
       "    </tr>\n",
       "  </tbody>\n",
       "</table>\n",
       "</div>"
      ],
      "text/plain": [
       "   NUM      TITLE DIRECTOR                                              ACTOR  \\\n",
       "0    1         파묘      장재현  최민식,김고은,유해진,이도현,김재철,김민준,김병오,전진기,박정자,박지일,이종구,이영...   \n",
       "1    2      범죄도시4      허명행  김무열,박지환,이동휘,마동석,곽자형,이범수,김민재,이지훈,이주빈,김도건,김지훈,현봉...   \n",
       "2    3  인사이드 아웃 2     켈시 만                                      에이미 포엘러,토니 헤일   \n",
       "3    4       베테랑2      류승완  황정민,정해인,장윤주,정만식,신승환,오달수,오대환,김시후,안보현,진경,권해효,변홍준...   \n",
       "4    5        파일럿      김한결  조정석,이주명,한선화,신승호,오민애,김지현,서재희,박다온,현봉식,서현철,유재석,조세...   \n",
       "\n",
       "                                            SYNOPSIS SYNOPSIS_CLEAR  \n",
       "0  미국 LA 거액의 의뢰를 받은 무당 화림(김고은)과 봉길(이도현)은 기이한 병이 대...                 \n",
       "1  신종 마약 사건 3년 뒤 괴물형사 마석도(마동석)와 서울 광수대는 배달앱을 이용한 ...                 \n",
       "2  디즈니픽사의 대표작 인사이드 아웃 새로운 감정과 함께 돌아오다 13살이 된 라일리의...                 \n",
       "3  가족들도 못 챙기고 밤낮없이 범죄들과 싸우는 베테랑 형사 서도철(황정민)과 강력범죄...                 \n",
       "4  하루 아침에 인생 추락한 스타 파일럿 제 2의 인생 이륙 준비 중 최고의 비행 실력...                 "
      ]
     },
     "execution_count": 41,
     "metadata": {},
     "output_type": "execute_result"
    }
   ],
   "source": [
    "movie_df.head()"
   ]
  },
  {
   "cell_type": "code",
   "execution_count": 30,
   "id": "ddc12dfe-81ff-4702-a3ae-2c966580f5f5",
   "metadata": {},
   "outputs": [
    {
     "data": {
      "application/vnd.jupyter.widget-view+json": {
       "model_id": "05af17e1f0b94ab3982d61770cd0eca2",
       "version_major": 2,
       "version_minor": 0
      },
      "text/plain": [
       "  0%|          | 0/100000000 [00:00<?, ?it/s]"
      ]
     },
     "metadata": {},
     "output_type": "display_data"
    }
   ],
   "source": [
    "from tqdm.notebook import tqdm\n",
    "sum = 0\n",
    "for i in tqdm(range(100000000)):\n",
    "    sum = sum + i"
   ]
  },
  {
   "cell_type": "code",
   "execution_count": 32,
   "id": "3bb8533c-cb30-4244-bcde-69c2d192d103",
   "metadata": {},
   "outputs": [
    {
     "data": {
      "text/plain": [
       "485"
      ]
     },
     "execution_count": 32,
     "metadata": {},
     "output_type": "execute_result"
    }
   ],
   "source": [
    "len(movie_df)"
   ]
  },
  {
   "cell_type": "code",
   "execution_count": 34,
   "id": "709d10e4-7797-48a7-a2ad-9674a671bad7",
   "metadata": {},
   "outputs": [
    {
     "data": {
      "text/plain": [
       "485"
      ]
     },
     "execution_count": 34,
     "metadata": {},
     "output_type": "execute_result"
    }
   ],
   "source": [
    "row_num = len(movie_df)\n",
    "row_num"
   ]
  },
  {
   "cell_type": "code",
   "execution_count": 42,
   "id": "40601b36-9169-4a0e-94ca-48ab5ab2150a",
   "metadata": {},
   "outputs": [
    {
     "data": {
      "application/vnd.jupyter.widget-view+json": {
       "model_id": "4e1fea2a73c34d7b94f4d7ed71b0d20c",
       "version_major": 2,
       "version_minor": 0
      },
      "text/plain": [
       "  0%|          | 0/485 [00:00<?, ?it/s]"
      ]
     },
     "metadata": {},
     "output_type": "display_data"
    }
   ],
   "source": [
    "for index in tqdm(range(row_num)):\n",
    "    try:\n",
    "        synopsis = movie_df.loc[index, \"SYNOPSIS\"]\n",
    "        movie_df.loc[index, \"SYNOPSIS_CLEAR\"] = preprocessingText(synopsis)\n",
    "    except Exception as e:\n",
    "        movie_df.loc[index, \"SYNOPSIS_CLEAR\"] = \"\""
   ]
  },
  {
   "cell_type": "code",
   "execution_count": 43,
   "id": "653d1ad0-35d8-4c6e-bbc5-b99ae538c5fa",
   "metadata": {},
   "outputs": [
    {
     "data": {
      "text/html": [
       "<div>\n",
       "<style scoped>\n",
       "    .dataframe tbody tr th:only-of-type {\n",
       "        vertical-align: middle;\n",
       "    }\n",
       "\n",
       "    .dataframe tbody tr th {\n",
       "        vertical-align: top;\n",
       "    }\n",
       "\n",
       "    .dataframe thead th {\n",
       "        text-align: right;\n",
       "    }\n",
       "</style>\n",
       "<table border=\"1\" class=\"dataframe\">\n",
       "  <thead>\n",
       "    <tr style=\"text-align: right;\">\n",
       "      <th></th>\n",
       "      <th>NUM</th>\n",
       "      <th>TITLE</th>\n",
       "      <th>DIRECTOR</th>\n",
       "      <th>ACTOR</th>\n",
       "      <th>SYNOPSIS</th>\n",
       "      <th>SYNOPSIS_CLEAR</th>\n",
       "    </tr>\n",
       "  </thead>\n",
       "  <tbody>\n",
       "    <tr>\n",
       "      <th>0</th>\n",
       "      <td>1</td>\n",
       "      <td>파묘</td>\n",
       "      <td>장재현</td>\n",
       "      <td>최민식,김고은,유해진,이도현,김재철,김민준,김병오,전진기,박정자,박지일,이종구,이영...</td>\n",
       "      <td>미국 LA 거액의 의뢰를 받은 무당 화림(김고은)과 봉길(이도현)은 기이한 병이 대...</td>\n",
       "      <td>미국 거액 의뢰 무당 화림 김고은 봉길 이도현 대물림 집안 장손 조상 자리 화근 냄...</td>\n",
       "    </tr>\n",
       "    <tr>\n",
       "      <th>1</th>\n",
       "      <td>2</td>\n",
       "      <td>범죄도시4</td>\n",
       "      <td>허명행</td>\n",
       "      <td>김무열,박지환,이동휘,마동석,곽자형,이범수,김민재,이지훈,이주빈,김도건,김지훈,현봉...</td>\n",
       "      <td>신종 마약 사건 3년 뒤 괴물형사 마석도(마동석)와 서울 광수대는 배달앱을 이용한 ...</td>\n",
       "      <td>신종 마약 사건 괴물 형사 마석 마동석 서울 광수 배달 이용 마약 판매 사건 수사 ...</td>\n",
       "    </tr>\n",
       "    <tr>\n",
       "      <th>2</th>\n",
       "      <td>3</td>\n",
       "      <td>인사이드 아웃 2</td>\n",
       "      <td>켈시 만</td>\n",
       "      <td>에이미 포엘러,토니 헤일</td>\n",
       "      <td>디즈니픽사의 대표작 인사이드 아웃 새로운 감정과 함께 돌아오다 13살이 된 라일리의...</td>\n",
       "      <td>디즈니 픽사 대표작 인사이드 아웃 감정 라일리 행복 바쁘 머릿속 감정 컨트롤 본부 ...</td>\n",
       "    </tr>\n",
       "    <tr>\n",
       "      <th>3</th>\n",
       "      <td>4</td>\n",
       "      <td>베테랑2</td>\n",
       "      <td>류승완</td>\n",
       "      <td>황정민,정해인,장윤주,정만식,신승환,오달수,오대환,김시후,안보현,진경,권해효,변홍준...</td>\n",
       "      <td>가족들도 못 챙기고 밤낮없이 범죄들과 싸우는 베테랑 형사 서도철(황정민)과 강력범죄...</td>\n",
       "      <td>가족 범죄 베테랑 형사 서도철 황정민 강력 범죄 수사대 형사 교수 죽음 이전 발생 ...</td>\n",
       "    </tr>\n",
       "    <tr>\n",
       "      <th>4</th>\n",
       "      <td>5</td>\n",
       "      <td>파일럿</td>\n",
       "      <td>김한결</td>\n",
       "      <td>조정석,이주명,한선화,신승호,오민애,김지현,서재희,박다온,현봉식,서현철,유재석,조세...</td>\n",
       "      <td>하루 아침에 인생 추락한 스타 파일럿 제 2의 인생 이륙 준비 중 최고의 비행 실력...</td>\n",
       "      <td>하루 아침 인생 추락 스타 파일럿 인생 이륙 준비 최고 비행 실력 스타 파일럿 인기...</td>\n",
       "    </tr>\n",
       "  </tbody>\n",
       "</table>\n",
       "</div>"
      ],
      "text/plain": [
       "   NUM      TITLE DIRECTOR                                              ACTOR  \\\n",
       "0    1         파묘      장재현  최민식,김고은,유해진,이도현,김재철,김민준,김병오,전진기,박정자,박지일,이종구,이영...   \n",
       "1    2      범죄도시4      허명행  김무열,박지환,이동휘,마동석,곽자형,이범수,김민재,이지훈,이주빈,김도건,김지훈,현봉...   \n",
       "2    3  인사이드 아웃 2     켈시 만                                      에이미 포엘러,토니 헤일   \n",
       "3    4       베테랑2      류승완  황정민,정해인,장윤주,정만식,신승환,오달수,오대환,김시후,안보현,진경,권해효,변홍준...   \n",
       "4    5        파일럿      김한결  조정석,이주명,한선화,신승호,오민애,김지현,서재희,박다온,현봉식,서현철,유재석,조세...   \n",
       "\n",
       "                                            SYNOPSIS  \\\n",
       "0  미국 LA 거액의 의뢰를 받은 무당 화림(김고은)과 봉길(이도현)은 기이한 병이 대...   \n",
       "1  신종 마약 사건 3년 뒤 괴물형사 마석도(마동석)와 서울 광수대는 배달앱을 이용한 ...   \n",
       "2  디즈니픽사의 대표작 인사이드 아웃 새로운 감정과 함께 돌아오다 13살이 된 라일리의...   \n",
       "3  가족들도 못 챙기고 밤낮없이 범죄들과 싸우는 베테랑 형사 서도철(황정민)과 강력범죄...   \n",
       "4  하루 아침에 인생 추락한 스타 파일럿 제 2의 인생 이륙 준비 중 최고의 비행 실력...   \n",
       "\n",
       "                                      SYNOPSIS_CLEAR  \n",
       "0  미국 거액 의뢰 무당 화림 김고은 봉길 이도현 대물림 집안 장손 조상 자리 화근 냄...  \n",
       "1  신종 마약 사건 괴물 형사 마석 마동석 서울 광수 배달 이용 마약 판매 사건 수사 ...  \n",
       "2  디즈니 픽사 대표작 인사이드 아웃 감정 라일리 행복 바쁘 머릿속 감정 컨트롤 본부 ...  \n",
       "3  가족 범죄 베테랑 형사 서도철 황정민 강력 범죄 수사대 형사 교수 죽음 이전 발생 ...  \n",
       "4  하루 아침 인생 추락 스타 파일럿 인생 이륙 준비 최고 비행 실력 스타 파일럿 인기...  "
      ]
     },
     "execution_count": 43,
     "metadata": {},
     "output_type": "execute_result"
    }
   ],
   "source": [
    "movie_df.head()"
   ]
  },
  {
   "cell_type": "code",
   "execution_count": 45,
   "id": "0837c702-9920-4e0f-b4dc-87b421a840d8",
   "metadata": {},
   "outputs": [
    {
     "data": {
      "text/plain": [
       "'미국 거액 의뢰 무당 화림 김고은 봉길 이도현 대물림 집안 장손 조상 자리 화근 냄새 최고 풍수 상덕 최민식 장의사 유해진 합류 사람 악지 자리 상덕 기운 제안 거절 화림 설득 결국 파묘 시작'"
      ]
     },
     "execution_count": 45,
     "metadata": {},
     "output_type": "execute_result"
    }
   ],
   "source": [
    "movie_df.loc[0, \"SYNOPSIS_CLEAR\"]"
   ]
  },
  {
   "cell_type": "code",
   "execution_count": 46,
   "id": "f3143ce9-f79b-4239-aa5b-1f997ca24d9b",
   "metadata": {},
   "outputs": [
    {
     "data": {
      "text/plain": [
       "0      [미국, 거액, 의뢰, 무당, 화림, 김고은, 봉길, 이도현, 대물림, 집안, 장손...\n",
       "1      [신종, 마약, 사건, 괴물, 형사, 마석, 마동석, 서울, 광수, 배달, 이용, ...\n",
       "2      [디즈니, 픽사, 대표작, 인사이드, 아웃, 감정, 라일리, 행복, 바쁘, 머릿속,...\n",
       "3      [가족, 범죄, 베테랑, 형사, 서도철, 황정민, 강력, 범죄, 수사대, 형사, 교...\n",
       "4      [하루, 아침, 인생, 추락, 스타, 파일럿, 인생, 이륙, 준비, 최고, 비행, ...\n",
       "                             ...                        \n",
       "480    [중년, 영화감독, 오랜만, 인테리어, 디자인, 여자, 건물, 인테리어, 디자인, ...\n",
       "481    [삼류, 건달, 강재, 막장, 인생, 마지막, 찬스, 평생, 보스, 대신, 감옥, ...\n",
       "482    [대결, 세상, 남자, 최동원, 선동열, 고독, 치열, 맞대결, 불안, 격동, 프로...\n",
       "483    [조직, 스파이, 색출, 사냥, 사냥감, 망명, 신청, 북한, 고위, 관리, 정보,...\n",
       "484    [고구려, 신라, 백제, 분쟁, 원수, 백제, 의자왕, 앙심, 김춘추, 태종, 무열...\n",
       "Name: SYNOPSIS_CLEAR, Length: 485, dtype: object"
      ]
     },
     "execution_count": 46,
     "metadata": {},
     "output_type": "execute_result"
    }
   ],
   "source": [
    "movie_df[\"SYNOPSIS_CLEAR\"].str.split(\" \")"
   ]
  },
  {
   "cell_type": "code",
   "execution_count": 48,
   "id": "a09b9987-74a2-4a13-8f93-dad260cf8b3a",
   "metadata": {},
   "outputs": [
    {
     "data": {
      "text/html": [
       "<div>\n",
       "<style scoped>\n",
       "    .dataframe tbody tr th:only-of-type {\n",
       "        vertical-align: middle;\n",
       "    }\n",
       "\n",
       "    .dataframe tbody tr th {\n",
       "        vertical-align: top;\n",
       "    }\n",
       "\n",
       "    .dataframe thead th {\n",
       "        text-align: right;\n",
       "    }\n",
       "</style>\n",
       "<table border=\"1\" class=\"dataframe\">\n",
       "  <thead>\n",
       "    <tr style=\"text-align: right;\">\n",
       "      <th></th>\n",
       "      <th>NUM</th>\n",
       "      <th>TITLE</th>\n",
       "      <th>DIRECTOR</th>\n",
       "      <th>ACTOR</th>\n",
       "      <th>SYNOPSIS</th>\n",
       "      <th>SYNOPSIS_CLEAR</th>\n",
       "      <th>SYNOPSIS_CLEAR_LIST</th>\n",
       "    </tr>\n",
       "  </thead>\n",
       "  <tbody>\n",
       "    <tr>\n",
       "      <th>0</th>\n",
       "      <td>1</td>\n",
       "      <td>파묘</td>\n",
       "      <td>장재현</td>\n",
       "      <td>최민식,김고은,유해진,이도현,김재철,김민준,김병오,전진기,박정자,박지일,이종구,이영...</td>\n",
       "      <td>미국 LA 거액의 의뢰를 받은 무당 화림(김고은)과 봉길(이도현)은 기이한 병이 대...</td>\n",
       "      <td>미국 거액 의뢰 무당 화림 김고은 봉길 이도현 대물림 집안 장손 조상 자리 화근 냄...</td>\n",
       "      <td>[미국, 거액, 의뢰, 무당, 화림, 김고은, 봉길, 이도현, 대물림, 집안, 장손...</td>\n",
       "    </tr>\n",
       "    <tr>\n",
       "      <th>1</th>\n",
       "      <td>2</td>\n",
       "      <td>범죄도시4</td>\n",
       "      <td>허명행</td>\n",
       "      <td>김무열,박지환,이동휘,마동석,곽자형,이범수,김민재,이지훈,이주빈,김도건,김지훈,현봉...</td>\n",
       "      <td>신종 마약 사건 3년 뒤 괴물형사 마석도(마동석)와 서울 광수대는 배달앱을 이용한 ...</td>\n",
       "      <td>신종 마약 사건 괴물 형사 마석 마동석 서울 광수 배달 이용 마약 판매 사건 수사 ...</td>\n",
       "      <td>[신종, 마약, 사건, 괴물, 형사, 마석, 마동석, 서울, 광수, 배달, 이용, ...</td>\n",
       "    </tr>\n",
       "    <tr>\n",
       "      <th>2</th>\n",
       "      <td>3</td>\n",
       "      <td>인사이드 아웃 2</td>\n",
       "      <td>켈시 만</td>\n",
       "      <td>에이미 포엘러,토니 헤일</td>\n",
       "      <td>디즈니픽사의 대표작 인사이드 아웃 새로운 감정과 함께 돌아오다 13살이 된 라일리의...</td>\n",
       "      <td>디즈니 픽사 대표작 인사이드 아웃 감정 라일리 행복 바쁘 머릿속 감정 컨트롤 본부 ...</td>\n",
       "      <td>[디즈니, 픽사, 대표작, 인사이드, 아웃, 감정, 라일리, 행복, 바쁘, 머릿속,...</td>\n",
       "    </tr>\n",
       "    <tr>\n",
       "      <th>3</th>\n",
       "      <td>4</td>\n",
       "      <td>베테랑2</td>\n",
       "      <td>류승완</td>\n",
       "      <td>황정민,정해인,장윤주,정만식,신승환,오달수,오대환,김시후,안보현,진경,권해효,변홍준...</td>\n",
       "      <td>가족들도 못 챙기고 밤낮없이 범죄들과 싸우는 베테랑 형사 서도철(황정민)과 강력범죄...</td>\n",
       "      <td>가족 범죄 베테랑 형사 서도철 황정민 강력 범죄 수사대 형사 교수 죽음 이전 발생 ...</td>\n",
       "      <td>[가족, 범죄, 베테랑, 형사, 서도철, 황정민, 강력, 범죄, 수사대, 형사, 교...</td>\n",
       "    </tr>\n",
       "    <tr>\n",
       "      <th>4</th>\n",
       "      <td>5</td>\n",
       "      <td>파일럿</td>\n",
       "      <td>김한결</td>\n",
       "      <td>조정석,이주명,한선화,신승호,오민애,김지현,서재희,박다온,현봉식,서현철,유재석,조세...</td>\n",
       "      <td>하루 아침에 인생 추락한 스타 파일럿 제 2의 인생 이륙 준비 중 최고의 비행 실력...</td>\n",
       "      <td>하루 아침 인생 추락 스타 파일럿 인생 이륙 준비 최고 비행 실력 스타 파일럿 인기...</td>\n",
       "      <td>[하루, 아침, 인생, 추락, 스타, 파일럿, 인생, 이륙, 준비, 최고, 비행, ...</td>\n",
       "    </tr>\n",
       "  </tbody>\n",
       "</table>\n",
       "</div>"
      ],
      "text/plain": [
       "   NUM      TITLE DIRECTOR                                              ACTOR  \\\n",
       "0    1         파묘      장재현  최민식,김고은,유해진,이도현,김재철,김민준,김병오,전진기,박정자,박지일,이종구,이영...   \n",
       "1    2      범죄도시4      허명행  김무열,박지환,이동휘,마동석,곽자형,이범수,김민재,이지훈,이주빈,김도건,김지훈,현봉...   \n",
       "2    3  인사이드 아웃 2     켈시 만                                      에이미 포엘러,토니 헤일   \n",
       "3    4       베테랑2      류승완  황정민,정해인,장윤주,정만식,신승환,오달수,오대환,김시후,안보현,진경,권해효,변홍준...   \n",
       "4    5        파일럿      김한결  조정석,이주명,한선화,신승호,오민애,김지현,서재희,박다온,현봉식,서현철,유재석,조세...   \n",
       "\n",
       "                                            SYNOPSIS  \\\n",
       "0  미국 LA 거액의 의뢰를 받은 무당 화림(김고은)과 봉길(이도현)은 기이한 병이 대...   \n",
       "1  신종 마약 사건 3년 뒤 괴물형사 마석도(마동석)와 서울 광수대는 배달앱을 이용한 ...   \n",
       "2  디즈니픽사의 대표작 인사이드 아웃 새로운 감정과 함께 돌아오다 13살이 된 라일리의...   \n",
       "3  가족들도 못 챙기고 밤낮없이 범죄들과 싸우는 베테랑 형사 서도철(황정민)과 강력범죄...   \n",
       "4  하루 아침에 인생 추락한 스타 파일럿 제 2의 인생 이륙 준비 중 최고의 비행 실력...   \n",
       "\n",
       "                                      SYNOPSIS_CLEAR  \\\n",
       "0  미국 거액 의뢰 무당 화림 김고은 봉길 이도현 대물림 집안 장손 조상 자리 화근 냄...   \n",
       "1  신종 마약 사건 괴물 형사 마석 마동석 서울 광수 배달 이용 마약 판매 사건 수사 ...   \n",
       "2  디즈니 픽사 대표작 인사이드 아웃 감정 라일리 행복 바쁘 머릿속 감정 컨트롤 본부 ...   \n",
       "3  가족 범죄 베테랑 형사 서도철 황정민 강력 범죄 수사대 형사 교수 죽음 이전 발생 ...   \n",
       "4  하루 아침 인생 추락 스타 파일럿 인생 이륙 준비 최고 비행 실력 스타 파일럿 인기...   \n",
       "\n",
       "                                 SYNOPSIS_CLEAR_LIST  \n",
       "0  [미국, 거액, 의뢰, 무당, 화림, 김고은, 봉길, 이도현, 대물림, 집안, 장손...  \n",
       "1  [신종, 마약, 사건, 괴물, 형사, 마석, 마동석, 서울, 광수, 배달, 이용, ...  \n",
       "2  [디즈니, 픽사, 대표작, 인사이드, 아웃, 감정, 라일리, 행복, 바쁘, 머릿속,...  \n",
       "3  [가족, 범죄, 베테랑, 형사, 서도철, 황정민, 강력, 범죄, 수사대, 형사, 교...  \n",
       "4  [하루, 아침, 인생, 추락, 스타, 파일럿, 인생, 이륙, 준비, 최고, 비행, ...  "
      ]
     },
     "execution_count": 48,
     "metadata": {},
     "output_type": "execute_result"
    }
   ],
   "source": [
    "movie_df[\"SYNOPSIS_CLEAR_LIST\"] =  movie_df[\"SYNOPSIS_CLEAR\"].str.split(\" \")\n",
    "movie_df.head()"
   ]
  },
  {
   "cell_type": "code",
   "execution_count": 49,
   "id": "11723990-2345-49b5-aa24-6fd40c761533",
   "metadata": {},
   "outputs": [
    {
     "data": {
      "text/plain": [
       "0      [미국, 거액, 의뢰, 무당, 화림, 김고은, 봉길, 이도현, 대물림, 집안, 장손...\n",
       "1      [신종, 마약, 사건, 괴물, 형사, 마석, 마동석, 서울, 광수, 배달, 이용, ...\n",
       "2      [디즈니, 픽사, 대표작, 인사이드, 아웃, 감정, 라일리, 행복, 바쁘, 머릿속,...\n",
       "3      [가족, 범죄, 베테랑, 형사, 서도철, 황정민, 강력, 범죄, 수사대, 형사, 교...\n",
       "4      [하루, 아침, 인생, 추락, 스타, 파일럿, 인생, 이륙, 준비, 최고, 비행, ...\n",
       "                             ...                        \n",
       "480    [중년, 영화감독, 오랜만, 인테리어, 디자인, 여자, 건물, 인테리어, 디자인, ...\n",
       "481    [삼류, 건달, 강재, 막장, 인생, 마지막, 찬스, 평생, 보스, 대신, 감옥, ...\n",
       "482    [대결, 세상, 남자, 최동원, 선동열, 고독, 치열, 맞대결, 불안, 격동, 프로...\n",
       "483    [조직, 스파이, 색출, 사냥, 사냥감, 망명, 신청, 북한, 고위, 관리, 정보,...\n",
       "484    [고구려, 신라, 백제, 분쟁, 원수, 백제, 의자왕, 앙심, 김춘추, 태종, 무열...\n",
       "Name: SYNOPSIS_CLEAR_LIST, Length: 485, dtype: object"
      ]
     },
     "execution_count": 49,
     "metadata": {},
     "output_type": "execute_result"
    }
   ],
   "source": [
    "movie_df[\"SYNOPSIS_CLEAR_LIST\"]"
   ]
  },
  {
   "cell_type": "code",
   "execution_count": 50,
   "id": "f1f0fdd8-54e5-4447-adf3-03a580d2e22c",
   "metadata": {},
   "outputs": [
    {
     "data": {
      "text/plain": [
       "['미국',\n",
       " '거액',\n",
       " '의뢰',\n",
       " '무당',\n",
       " '화림',\n",
       " '김고은',\n",
       " '봉길',\n",
       " '이도현',\n",
       " '대물림',\n",
       " '집안',\n",
       " '장손',\n",
       " '조상',\n",
       " '자리',\n",
       " '화근',\n",
       " '냄새',\n",
       " '최고',\n",
       " '풍수',\n",
       " '상덕',\n",
       " '최민식',\n",
       " '장의사',\n",
       " '유해진',\n",
       " '합류',\n",
       " '사람',\n",
       " '악지',\n",
       " '자리',\n",
       " '상덕',\n",
       " '기운',\n",
       " '제안',\n",
       " '거절',\n",
       " '화림',\n",
       " '설득',\n",
       " '결국',\n",
       " '파묘',\n",
       " '시작']"
      ]
     },
     "execution_count": 50,
     "metadata": {},
     "output_type": "execute_result"
    }
   ],
   "source": [
    "movie_df[\"SYNOPSIS_CLEAR_LIST\"][0]"
   ]
  },
  {
   "cell_type": "code",
   "execution_count": 51,
   "id": "1b04a2c7-a0f0-4d76-9e29-5b4e8b7c3a0a",
   "metadata": {},
   "outputs": [],
   "source": [
    "from gensim.models.word2vec import Word2Vec\n",
    "word2vec = Word2Vec(\n",
    "    movie_df[\"SYNOPSIS_CLEAR_LIST\"],\n",
    "    sg = 1,\n",
    "    vector_size=100,\n",
    "    window=5,\n",
    "    workers=10    \n",
    ")"
   ]
  },
  {
   "cell_type": "code",
   "execution_count": 53,
   "id": "3f4d31cd-4c7f-4431-9623-b441057ebd7b",
   "metadata": {},
   "outputs": [
    {
     "data": {
      "text/plain": [
       "0"
      ]
     },
     "execution_count": 53,
     "metadata": {},
     "output_type": "execute_result"
    }
   ],
   "source": [
    "word2vec.wv.key_to_index[\"시작\"]"
   ]
  },
  {
   "cell_type": "code",
   "execution_count": 56,
   "id": "cda7f9bb-7124-49a1-ac96-4e2d69e9f48e",
   "metadata": {},
   "outputs": [
    {
     "data": {
      "text/plain": [
       "1"
      ]
     },
     "execution_count": 56,
     "metadata": {},
     "output_type": "execute_result"
    }
   ],
   "source": [
    "word2vec.wv.key_to_index[\"자신\"]"
   ]
  },
  {
   "cell_type": "code",
   "execution_count": 58,
   "id": "c70b0ed9-da45-4cda-88c7-6f407b9bfd02",
   "metadata": {},
   "outputs": [
    {
     "data": {
      "text/plain": [
       "[('인생', 0.9977025389671326),\n",
       " ('공부', 0.997658371925354),\n",
       " ('순간', 0.9974427223205566),\n",
       " ('용기', 0.9974361658096313),\n",
       " ('자신', 0.9974218010902405),\n",
       " ('기적', 0.997404158115387),\n",
       " ('힘들', 0.9973912835121155),\n",
       " ('도움', 0.997356116771698),\n",
       " ('가을', 0.9973438382148743),\n",
       " ('지금', 0.9973040223121643)]"
      ]
     },
     "execution_count": 58,
     "metadata": {},
     "output_type": "execute_result"
    }
   ],
   "source": [
    "word2vec.wv.most_similar(\"사랑\")"
   ]
  },
  {
   "cell_type": "code",
   "execution_count": 59,
   "id": "ebab96b9-71f1-4232-9f6c-69062ff66c57",
   "metadata": {},
   "outputs": [
    {
     "data": {
      "text/plain": [
       "[('이름', 0.9981745481491089),\n",
       " ('사고', 0.9981533885002136),\n",
       " ('상대', 0.9981184601783752),\n",
       " ('반대', 0.9980870485305786),\n",
       " ('등장', 0.998085081577301),\n",
       " ('낯설', 0.9980758428573608),\n",
       " ('기적', 0.9980642199516296),\n",
       " ('우연', 0.9979867339134216),\n",
       " ('한국', 0.9979826807975769),\n",
       " ('응원', 0.9979693293571472)]"
      ]
     },
     "execution_count": 59,
     "metadata": {},
     "output_type": "execute_result"
    }
   ],
   "source": [
    "word2vec.wv.most_similar(\"가족\")"
   ]
  },
  {
   "cell_type": "code",
   "execution_count": 61,
   "id": "3fa11b9f-964a-4844-be0d-5cbeab94f2b2",
   "metadata": {},
   "outputs": [
    {
     "data": {
      "text/plain": [
       "array([-0.13112867,  0.09543313, -0.04068668,  0.02805424,  0.13019598,\n",
       "       -0.3109993 ,  0.07577083,  0.35793924, -0.10087842, -0.06308157,\n",
       "       -0.11859551, -0.10126714,  0.03764768,  0.07469915,  0.1097789 ,\n",
       "       -0.07575617, -0.07482526, -0.22480763, -0.00232339, -0.3194931 ,\n",
       "        0.11881151,  0.00617661, -0.0182965 , -0.0531964 , -0.14206396,\n",
       "       -0.01762661, -0.02485355, -0.14483967, -0.11117925,  0.03119723,\n",
       "        0.13505203,  0.1278169 ,  0.0691918 , -0.06620386, -0.09047967,\n",
       "        0.2997425 , -0.04998171, -0.05707021, -0.17597443, -0.26093233,\n",
       "        0.03913908, -0.06544092,  0.03731025,  0.00174421,  0.16993117,\n",
       "        0.04223373, -0.10753725,  0.01476829,  0.06093011,  0.07126997,\n",
       "        0.1550397 , -0.14947447, -0.00165229, -0.04012693, -0.10356496,\n",
       "        0.0491216 , -0.01225199,  0.0428201 , -0.16554657,  0.02459756,\n",
       "        0.07896121,  0.13701484, -0.06383283, -0.04151037, -0.24535964,\n",
       "        0.0992254 ,  0.05750685,  0.1029445 , -0.2294333 ,  0.27510878,\n",
       "       -0.07470282, -0.01025142,  0.12492266, -0.1306554 ,  0.14817369,\n",
       "        0.08731949, -0.00501815, -0.03605805, -0.14243749,  0.07485057,\n",
       "       -0.07285377,  0.01124572, -0.11548737,  0.19801857,  0.03101583,\n",
       "       -0.00639165,  0.02476901,  0.2783073 ,  0.27019438,  0.01850317,\n",
       "        0.19572563,  0.07212902,  0.04629091,  0.1556665 ,  0.31175095,\n",
       "        0.0894843 ,  0.04633752, -0.29030204,  0.00517856, -0.00866375],\n",
       "      dtype=float32)"
      ]
     },
     "execution_count": 61,
     "metadata": {},
     "output_type": "execute_result"
    }
   ],
   "source": [
    "word2vec.wv[\"사랑\"]"
   ]
  },
  {
   "cell_type": "code",
   "execution_count": 62,
   "id": "4c9c2c19-cf65-43ce-a35f-b20c7a01e655",
   "metadata": {},
   "outputs": [
    {
     "data": {
      "text/plain": [
       "array([-0.1102723 ,  0.0760738 , -0.04337109,  0.04065778,  0.12460601,\n",
       "       -0.29861006,  0.07316843,  0.33885184, -0.11027126, -0.04148327,\n",
       "       -0.1275431 , -0.10206559,  0.04059364,  0.08631838,  0.09109036,\n",
       "       -0.07821943, -0.06992035, -0.21175915,  0.01077119, -0.32515156,\n",
       "        0.11954204,  0.00924452, -0.02159443, -0.05854147, -0.12713145,\n",
       "       -0.01878931, -0.03903099, -0.15720941, -0.11491823,  0.03215152,\n",
       "        0.13708553,  0.13794823,  0.08502267, -0.05715281, -0.09782483,\n",
       "        0.2963013 , -0.07408345, -0.06483165, -0.17689294, -0.27926105,\n",
       "        0.04644859, -0.07669105,  0.04336495, -0.00317261,  0.15666635,\n",
       "        0.05275499, -0.11258877, -0.00368673,  0.05114093,  0.06292031,\n",
       "        0.14717211, -0.16263302, -0.00192603, -0.01979711, -0.10588479,\n",
       "        0.03609627, -0.02189617,  0.02273032, -0.18247071,  0.01155592,\n",
       "        0.07587911,  0.12801087, -0.07266965, -0.03851046, -0.25348052,\n",
       "        0.11034036,  0.04539013,  0.08292339, -0.23300056,  0.27726078,\n",
       "       -0.08676772,  0.00210389,  0.12410898, -0.13870476,  0.15628944,\n",
       "        0.0838799 ,  0.00580932, -0.03526893, -0.13972388,  0.08168983,\n",
       "       -0.06933256, -0.00267643, -0.12097182,  0.20381694,  0.02534639,\n",
       "       -0.01467591,  0.02022173,  0.26172015,  0.26418048,  0.02347814,\n",
       "        0.20273232,  0.06545684,  0.04205327,  0.15514442,  0.29778275,\n",
       "        0.09005771,  0.04054284, -0.28085288,  0.01205989,  0.00190072],\n",
       "      dtype=float32)"
      ]
     },
     "execution_count": 62,
     "metadata": {},
     "output_type": "execute_result"
    }
   ],
   "source": [
    "word2vec.wv[\"가족\"]"
   ]
  },
  {
   "cell_type": "code",
   "execution_count": 63,
   "id": "aaa42036-1135-4b04-ae5f-98c8d166fcb2",
   "metadata": {},
   "outputs": [
    {
     "data": {
      "text/plain": [
       "['시작', '자신', '사람', '사랑', '사건', '친구', '가족', '마음', '엄마', '이야기']"
      ]
     },
     "execution_count": 63,
     "metadata": {},
     "output_type": "execute_result"
    }
   ],
   "source": [
    "word2vec_words = word2vec.wv.key_to_index.keys()\n",
    "list(word2vec_words)[0:10]\n",
    "#word2vec_words는 딕셔너리 형태"
   ]
  },
  {
   "cell_type": "code",
   "execution_count": 66,
   "id": "f3445e8e-7147-4220-8613-1afc043ddee6",
   "metadata": {},
   "outputs": [],
   "source": [
    "cursor = connection.cursor()"
   ]
  },
  {
   "cell_type": "code",
   "execution_count": 67,
   "id": "938a8c41-1216-48ec-a100-482113711d62",
   "metadata": {},
   "outputs": [
    {
     "data": {
      "application/vnd.jupyter.widget-view+json": {
       "model_id": "e4a0b68bd779481798ea612d295dedf2",
       "version_major": 2,
       "version_minor": 0
      },
      "text/plain": [
       "  0%|          | 0/485 [00:00<?, ?it/s]"
      ]
     },
     "metadata": {},
     "output_type": "display_data"
    }
   ],
   "source": [
    "for index, row in tqdm(movie_df.iterrows(), total = len(movie_df)):\n",
    "    try :\n",
    "        words = row['SYNOPSIS_CLEAR_LIST']\n",
    "        word_vectors = []\n",
    "        for word in words:\n",
    "            if word in word2vec.wv:\n",
    "                word_vectors.append(word2vec.wv[word])\n",
    "\n",
    "        if len(word_vectors) > 0 :\n",
    "            avg_vector = np.mean(word_vectors, axis = 0)\n",
    "        else :\n",
    "            avg_vector = np.zeros(word_vectors, axis=0)\n",
    "\n",
    "        vector_blob = pickle.dumps(avg_vector)\n",
    "\n",
    "        update_query = \"\"\"\n",
    "        UPDATE movie_tbl SET synopsis_vector = :1 where num = :2\n",
    "        \"\"\"\n",
    "\n",
    "        cursor.execute(update_query, [vector_blob, row['NUM']])\n",
    "\n",
    "    except Exception as e:\n",
    "        print(f\"오류발생 인데스 {index}: {e}\")"
   ]
  },
  {
   "cell_type": "code",
   "execution_count": 68,
   "id": "aeac12d5-0275-4b59-9122-b149fd3044d9",
   "metadata": {},
   "outputs": [],
   "source": [
    "connection.commit()"
   ]
  },
  {
   "cell_type": "code",
   "execution_count": 69,
   "id": "ab1fdbff-e5d4-4f70-bb13-ee0b7d46bd4a",
   "metadata": {},
   "outputs": [],
   "source": [
    "cursor.close()\n",
    "connection.close()"
   ]
  }
 ],
 "metadata": {
  "kernelspec": {
   "display_name": "Python 3 (ipykernel)",
   "language": "python",
   "name": "python3"
  },
  "language_info": {
   "codemirror_mode": {
    "name": "ipython",
    "version": 3
   },
   "file_extension": ".py",
   "mimetype": "text/x-python",
   "name": "python",
   "nbconvert_exporter": "python",
   "pygments_lexer": "ipython3",
   "version": "3.10.16"
  }
 },
 "nbformat": 4,
 "nbformat_minor": 5
}

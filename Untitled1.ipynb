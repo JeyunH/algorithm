{
 "cells": [
  {
   "cell_type": "code",
   "execution_count": 1,
   "id": "67d24252-9976-44ad-9de7-fee7049b08e1",
   "metadata": {},
   "outputs": [
    {
     "name": "stdout",
     "output_type": "stream",
     "text": [
      "Requirement already satisfied: fastapi in c:\\programdata\\anaconda3\\envs\\movie_env01\\lib\\site-packages (0.115.12)\n",
      "Requirement already satisfied: uvicorn in c:\\programdata\\anaconda3\\envs\\movie_env01\\lib\\site-packages (0.34.2)\n",
      "Requirement already satisfied: oracledb in c:\\programdata\\anaconda3\\envs\\movie_env01\\lib\\site-packages (3.1.0)\n",
      "Requirement already satisfied: pandas in c:\\programdata\\anaconda3\\envs\\movie_env01\\lib\\site-packages (2.2.3)\n",
      "Requirement already satisfied: nest_asyncio in c:\\programdata\\anaconda3\\envs\\movie_env01\\lib\\site-packages (1.6.0)\n",
      "Requirement already satisfied: scikit-learn in c:\\programdata\\anaconda3\\envs\\movie_env01\\lib\\site-packages (1.6.1)\n",
      "Requirement already satisfied: starlette<0.47.0,>=0.40.0 in c:\\programdata\\anaconda3\\envs\\movie_env01\\lib\\site-packages (from fastapi) (0.46.2)\n",
      "Requirement already satisfied: pydantic!=1.8,!=1.8.1,!=2.0.0,!=2.0.1,!=2.1.0,<3.0.0,>=1.7.4 in c:\\programdata\\anaconda3\\envs\\movie_env01\\lib\\site-packages (from fastapi) (2.11.3)\n",
      "Requirement already satisfied: typing-extensions>=4.8.0 in c:\\programdata\\anaconda3\\envs\\movie_env01\\lib\\site-packages (from fastapi) (4.13.2)\n",
      "Requirement already satisfied: click>=7.0 in c:\\programdata\\anaconda3\\envs\\movie_env01\\lib\\site-packages (from uvicorn) (8.1.8)\n",
      "Requirement already satisfied: h11>=0.8 in c:\\programdata\\anaconda3\\envs\\movie_env01\\lib\\site-packages (from uvicorn) (0.16.0)\n",
      "Requirement already satisfied: cryptography>=3.2.1 in c:\\programdata\\anaconda3\\envs\\movie_env01\\lib\\site-packages (from oracledb) (44.0.2)\n",
      "Requirement already satisfied: numpy>=1.22.4 in c:\\programdata\\anaconda3\\envs\\movie_env01\\lib\\site-packages (from pandas) (1.26.4)\n",
      "Requirement already satisfied: python-dateutil>=2.8.2 in c:\\programdata\\anaconda3\\envs\\movie_env01\\lib\\site-packages (from pandas) (2.9.0.post0)\n",
      "Requirement already satisfied: pytz>=2020.1 in c:\\programdata\\anaconda3\\envs\\movie_env01\\lib\\site-packages (from pandas) (2025.2)\n",
      "Requirement already satisfied: tzdata>=2022.7 in c:\\programdata\\anaconda3\\envs\\movie_env01\\lib\\site-packages (from pandas) (2025.2)\n",
      "Requirement already satisfied: scipy>=1.6.0 in c:\\programdata\\anaconda3\\envs\\movie_env01\\lib\\site-packages (from scikit-learn) (1.13.1)\n",
      "Requirement already satisfied: joblib>=1.2.0 in c:\\programdata\\anaconda3\\envs\\movie_env01\\lib\\site-packages (from scikit-learn) (1.4.2)\n",
      "Requirement already satisfied: threadpoolctl>=3.1.0 in c:\\programdata\\anaconda3\\envs\\movie_env01\\lib\\site-packages (from scikit-learn) (3.6.0)\n",
      "Requirement already satisfied: colorama in c:\\programdata\\anaconda3\\envs\\movie_env01\\lib\\site-packages (from click>=7.0->uvicorn) (0.4.6)\n",
      "Requirement already satisfied: cffi>=1.12 in c:\\programdata\\anaconda3\\envs\\movie_env01\\lib\\site-packages (from cryptography>=3.2.1->oracledb) (1.17.1)\n",
      "Requirement already satisfied: annotated-types>=0.6.0 in c:\\programdata\\anaconda3\\envs\\movie_env01\\lib\\site-packages (from pydantic!=1.8,!=1.8.1,!=2.0.0,!=2.0.1,!=2.1.0,<3.0.0,>=1.7.4->fastapi) (0.7.0)\n",
      "Requirement already satisfied: pydantic-core==2.33.1 in c:\\programdata\\anaconda3\\envs\\movie_env01\\lib\\site-packages (from pydantic!=1.8,!=1.8.1,!=2.0.0,!=2.0.1,!=2.1.0,<3.0.0,>=1.7.4->fastapi) (2.33.1)\n",
      "Requirement already satisfied: typing-inspection>=0.4.0 in c:\\programdata\\anaconda3\\envs\\movie_env01\\lib\\site-packages (from pydantic!=1.8,!=1.8.1,!=2.0.0,!=2.0.1,!=2.1.0,<3.0.0,>=1.7.4->fastapi) (0.4.0)\n",
      "Requirement already satisfied: six>=1.5 in c:\\programdata\\anaconda3\\envs\\movie_env01\\lib\\site-packages (from python-dateutil>=2.8.2->pandas) (1.17.0)\n",
      "Requirement already satisfied: anyio<5,>=3.6.2 in c:\\programdata\\anaconda3\\envs\\movie_env01\\lib\\site-packages (from starlette<0.47.0,>=0.40.0->fastapi) (4.9.0)\n",
      "Requirement already satisfied: exceptiongroup>=1.0.2 in c:\\programdata\\anaconda3\\envs\\movie_env01\\lib\\site-packages (from anyio<5,>=3.6.2->starlette<0.47.0,>=0.40.0->fastapi) (1.2.2)\n",
      "Requirement already satisfied: idna>=2.8 in c:\\programdata\\anaconda3\\envs\\movie_env01\\lib\\site-packages (from anyio<5,>=3.6.2->starlette<0.47.0,>=0.40.0->fastapi) (3.10)\n",
      "Requirement already satisfied: sniffio>=1.1 in c:\\programdata\\anaconda3\\envs\\movie_env01\\lib\\site-packages (from anyio<5,>=3.6.2->starlette<0.47.0,>=0.40.0->fastapi) (1.3.1)\n",
      "Requirement already satisfied: pycparser in c:\\programdata\\anaconda3\\envs\\movie_env01\\lib\\site-packages (from cffi>=1.12->cryptography>=3.2.1->oracledb) (2.22)\n"
     ]
    }
   ],
   "source": [
    "!pip install fastapi uvicorn oracledb pandas nest_asyncio scikit-learn"
   ]
  },
  {
   "cell_type": "code",
   "execution_count": 2,
   "id": "9828dbce-dab4-414c-b67f-ecbac268b869",
   "metadata": {},
   "outputs": [],
   "source": [
    "from fastapi import FastAPI\n",
    "import oracledb\n",
    "import pandas as pd\n",
    "import nest_asyncio\n",
    "import uvicorn\n",
    "import pickle\n",
    "from sklearn.metrics.pairwise import cosine_similarity\n",
    "from pydantic import BaseModel\n",
    "import numpy as np\n",
    "from fastapi.middleware.cors import CORSMiddleware"
   ]
  },
  {
   "cell_type": "code",
   "execution_count": 3,
   "id": "b54cd54e-79b6-4ed3-b4eb-f8bb8ffb05f6",
   "metadata": {},
   "outputs": [],
   "source": [
    "app = FastAPI()"
   ]
  },
  {
   "cell_type": "code",
   "execution_count": 4,
   "id": "56799ad3-e59a-427f-a6f6-0b79625ad330",
   "metadata": {},
   "outputs": [],
   "source": [
    "app.add_middleware(\n",
    "    CORSMiddleware,\n",
    "    allow_origins=[\"*\"],\n",
    "    allow_credentials=True,\n",
    "    allow_methods=[\"*\"],\n",
    "    allow_headers=[\"*\"]\n",
    ")"
   ]
  },
  {
   "cell_type": "code",
   "execution_count": 5,
   "id": "4315177c-b8b3-4c46-9150-33068535c6cc",
   "metadata": {},
   "outputs": [],
   "source": [
    "@app.get(\"/movie/hello_backend\")\n",
    "async def hello():\n",
    "    return \"안녕 FastAPI hi\""
   ]
  },
  {
   "cell_type": "code",
   "execution_count": 6,
   "id": "adc562bb-f3fb-462f-8f2a-a1f43d61b4d6",
   "metadata": {},
   "outputs": [],
   "source": [
    "userdsn = oracledb.makedsn(\"localhost\", 1521, service_name = \"XEPDB1\")\n",
    "username = \"movie_scott\"\n",
    "userpass = \"8835\""
   ]
  },
  {
   "cell_type": "code",
   "execution_count": 7,
   "id": "bf8e04b9-4d8a-42bd-9be4-6db007b82f98",
   "metadata": {},
   "outputs": [],
   "source": [
    "@app.get(\"/movie/movie_popular\")\n",
    "async def movie_popular():\n",
    "    connection = oracledb.connect(user=username, password = userpass, dsn = userdsn)\n",
    "    query = \"\"\"\n",
    "        SELECT num, title, director, actor, box_office,\n",
    "                synopsis, poster, open_date, degree,\n",
    "                country, movie_time\n",
    "        FROM movie_tbl\n",
    "        ORDER BY box_office DESC\n",
    "        FETCH FIRST 30 ROWS ONLY\n",
    "    \"\"\"\n",
    "    movie_df = pd.read_sql(query, con=connection)\n",
    "    connection.close()\n",
    "    return movie_df.to_dict(orient = 'records')"
   ]
  },
  {
   "cell_type": "code",
   "execution_count": 9,
   "id": "084c8ea4-c9f5-402b-8d9e-ecafe7b436e9",
   "metadata": {},
   "outputs": [],
   "source": [
    "class MovieRequest(BaseModel):\n",
    "    num: int"
   ]
  },
  {
   "cell_type": "code",
   "execution_count": 10,
   "id": "6a58edb8-e3a9-46da-a889-ea74ed9a32da",
   "metadata": {},
   "outputs": [],
   "source": [
    "# POST 방식으로 \"/movie/movie_recommend\" 주소에 요청을 하면 동작하는 기능을 만듭니다.\n",
    "@app.post(\"/movie/movie_recommend\")\n",
    "async def movie_recommend(request: MovieRequest):\n",
    "\n",
    "    # 데이터베이스에 연결하여 데이터를 가져오기 위한 연결 설정을 합니다.\n",
    "    connection = oracledb.connect(user=username, password=userpass, dsn=userdsn)\n",
    "\n",
    "    # movie_tbl이라는 데이터베이스 테이블에서 영화 데이터를 가져오는 SQL 쿼리를 작성합니다.\n",
    "    query = \"SELECT * FROM movie_tbl\"\n",
    "\n",
    "    # 작성한 쿼리를 실행하여 결과를 판다스(movie_df) 데이터프레임으로 변환하여 저장합니다.\n",
    "    movie_df = pd.read_sql(query, con=connection)\n",
    "\n",
    "    # movie_df에서 SYNOPSIS_VECTOR 열(blob) 데이터를 다시 사용할 수 있도록 변환하는 함수를 만듭니다.\n",
    "    def load_vector(blob):\n",
    "        return pickle.loads(blob.read())\n",
    "\n",
    "    # 데이터프레임의 'SYNOPSIS_VECTOR' 열에 있는 데이터들을 다시 변환해서 저장합니다.\n",
    "    movie_df[\"SYNOPSIS_VECTOR\"] = movie_df[\"SYNOPSIS_VECTOR\"].apply(load_vector)\n",
    "\n",
    "    # 데이터베이스 연결을 종료합니다.\n",
    "    connection.close()\n",
    "\n",
    "    # 사용자가 요청한 영화 번호(request.num)와 일치하는 영화 데이터를 movie_df에서 찾습니다.\n",
    "    target_movie = movie_df[movie_df[\"NUM\"] == request.num]\n",
    "\n",
    "    # 만약 사용자가 요청한 영화가 없다면 빈 결과를 반환합니다.\n",
    "    if target_movie.empty:\n",
    "        return {}\n",
    "\n",
    "    # 사용자가 선택한 영화의 줄거리 벡터를 가져옵니다.\n",
    "    target_vector = target_movie.iloc[0][\"SYNOPSIS_VECTOR\"]\n",
    "\n",
    "    # 모든 영화의 줄거리 벡터들을 하나의 배열로 합칩니다.\n",
    "    vectors = np.stack(movie_df[\"SYNOPSIS_VECTOR\"].values)\n",
    "\n",
    "    # cosine_similarity 함수를 사용해 선택한 영화와 다른 영화들의 유사도를 계산합니다.\n",
    "    similarity_scores = cosine_similarity([target_vector], vectors)[0]\n",
    "\n",
    "    # 계산한 유사도 점수를 movie_df에 새로운 열(similarity)로 추가합니다.\n",
    "    movie_df[\"similarity\"] = similarity_scores\n",
    "\n",
    "    # 사용자가 선택한 영화와 다른 영화를 유사도 높은 순서로 정렬해서 상위 20개 영화를 추천합니다.\n",
    "    recommended_movies = movie_df[movie_df[\"NUM\"] != request.num].sort_values(\n",
    "        by=\"similarity\", ascending=False\n",
    "    ).head(20)\n",
    "\n",
    "    # 추천 영화들의 번호 리스트를 저장합니다.\n",
    "    recommended_num = recommended_movies[\"NUM\"].tolist()\n",
    "\n",
    "    # 추천된 영화들의 정보를 movie_df에서 선택하여 저장합니다.\n",
    "    recommend_df = movie_df[movie_df[\"NUM\"].isin(recommended_num)]\n",
    "\n",
    "    # 응답을 줄 때는 synopsis_vector 같은 벡터 데이터는 필요 없으니 제거하고 전달합니다.\n",
    "    recommend_df = recommend_df.drop([\"SYNOPSIS_VECTOR\"], axis=1)\n",
    "\n",
    "    # 추천된 영화 정보를 JSON 형태로 반환합니다.\n",
    "    return recommend_df.to_dict(orient='records')"
   ]
  },
  {
   "cell_type": "code",
   "execution_count": 11,
   "id": "6032ba36-e16d-4369-b4b1-702454176440",
   "metadata": {},
   "outputs": [],
   "source": [
    "nest_asyncio.apply()"
   ]
  },
  {
   "cell_type": "code",
   "execution_count": null,
   "id": "aa743b9d-76ff-4daa-8371-b3b25f465ab7",
   "metadata": {},
   "outputs": [
    {
     "name": "stderr",
     "output_type": "stream",
     "text": [
      "INFO:     Started server process [12620]\n",
      "INFO:     Waiting for application startup.\n",
      "INFO:     Application startup complete.\n",
      "INFO:     Uvicorn running on http://0.0.0.0:7070 (Press CTRL+C to quit)\n"
     ]
    },
    {
     "name": "stdout",
     "output_type": "stream",
     "text": [
      "INFO:     127.0.0.1:58186 - \"GET /movie/movie_recommend HTTP/1.1\" 405 Method Not Allowed\n",
      "INFO:     127.0.0.1:58187 - \"POST /movie/movie_recommend HTTP/1.1\" 422 Unprocessable Entity\n",
      "INFO:     127.0.0.1:58201 - \"POST /movie/movie_recommend HTTP/1.1\" 200 OK\n"
     ]
    },
    {
     "name": "stderr",
     "output_type": "stream",
     "text": [
      "C:\\Users\\Public\\Documents\\ESTsoft\\CreatorTemp\\ipykernel_12620\\3368007567.py:12: UserWarning: pandas only supports SQLAlchemy connectable (engine/connection) or database string URI or sqlite3 DBAPI2 connection. Other DBAPI2 objects are not tested. Please consider using SQLAlchemy.\n",
      "  movie_df = pd.read_sql(query, con=connection)\n"
     ]
    },
    {
     "name": "stdout",
     "output_type": "stream",
     "text": [
      "INFO:     127.0.0.1:58262 - \"POST /movie/movie_recommend HTTP/1.1\" 200 OK\n"
     ]
    },
    {
     "name": "stderr",
     "output_type": "stream",
     "text": [
      "C:\\Users\\Public\\Documents\\ESTsoft\\CreatorTemp\\ipykernel_12620\\3368007567.py:12: UserWarning: pandas only supports SQLAlchemy connectable (engine/connection) or database string URI or sqlite3 DBAPI2 connection. Other DBAPI2 objects are not tested. Please consider using SQLAlchemy.\n",
      "  movie_df = pd.read_sql(query, con=connection)\n"
     ]
    },
    {
     "name": "stdout",
     "output_type": "stream",
     "text": [
      "INFO:     127.0.0.1:58264 - \"POST /movie/movie_recommend HTTP/1.1\" 200 OK\n"
     ]
    },
    {
     "name": "stderr",
     "output_type": "stream",
     "text": [
      "C:\\Users\\Public\\Documents\\ESTsoft\\CreatorTemp\\ipykernel_12620\\3368007567.py:12: UserWarning: pandas only supports SQLAlchemy connectable (engine/connection) or database string URI or sqlite3 DBAPI2 connection. Other DBAPI2 objects are not tested. Please consider using SQLAlchemy.\n",
      "  movie_df = pd.read_sql(query, con=connection)\n"
     ]
    },
    {
     "name": "stdout",
     "output_type": "stream",
     "text": [
      "INFO:     127.0.0.1:58270 - \"POST /movie/movie_recommend HTTP/1.1\" 200 OK\n"
     ]
    },
    {
     "name": "stderr",
     "output_type": "stream",
     "text": [
      "C:\\Users\\Public\\Documents\\ESTsoft\\CreatorTemp\\ipykernel_12620\\3368007567.py:12: UserWarning: pandas only supports SQLAlchemy connectable (engine/connection) or database string URI or sqlite3 DBAPI2 connection. Other DBAPI2 objects are not tested. Please consider using SQLAlchemy.\n",
      "  movie_df = pd.read_sql(query, con=connection)\n"
     ]
    },
    {
     "name": "stdout",
     "output_type": "stream",
     "text": [
      "INFO:     127.0.0.1:0 - \"GET /movie/movie_popular HTTP/1.1\" 200 OK\n",
      "INFO:     127.0.0.1:0 - \"GET /movie/movie_popular HTTP/1.1\" 200 OK\n"
     ]
    },
    {
     "name": "stderr",
     "output_type": "stream",
     "text": [
      "C:\\Users\\Public\\Documents\\ESTsoft\\CreatorTemp\\ipykernel_12620\\1747274717.py:12: UserWarning: pandas only supports SQLAlchemy connectable (engine/connection) or database string URI or sqlite3 DBAPI2 connection. Other DBAPI2 objects are not tested. Please consider using SQLAlchemy.\n",
      "  movie_df = pd.read_sql(query, con=connection)\n",
      "C:\\Users\\Public\\Documents\\ESTsoft\\CreatorTemp\\ipykernel_12620\\1747274717.py:12: UserWarning: pandas only supports SQLAlchemy connectable (engine/connection) or database string URI or sqlite3 DBAPI2 connection. Other DBAPI2 objects are not tested. Please consider using SQLAlchemy.\n",
      "  movie_df = pd.read_sql(query, con=connection)\n"
     ]
    },
    {
     "name": "stdout",
     "output_type": "stream",
     "text": [
      "INFO:     127.0.0.1:0 - \"POST /movie/movie_recommend HTTP/1.1\" 200 OK\n"
     ]
    },
    {
     "name": "stderr",
     "output_type": "stream",
     "text": [
      "C:\\Users\\Public\\Documents\\ESTsoft\\CreatorTemp\\ipykernel_12620\\3368007567.py:12: UserWarning: pandas only supports SQLAlchemy connectable (engine/connection) or database string URI or sqlite3 DBAPI2 connection. Other DBAPI2 objects are not tested. Please consider using SQLAlchemy.\n",
      "  movie_df = pd.read_sql(query, con=connection)\n"
     ]
    },
    {
     "name": "stdout",
     "output_type": "stream",
     "text": [
      "INFO:     127.0.0.1:0 - \"POST /movie/movie_recommend HTTP/1.1\" 200 OK\n"
     ]
    },
    {
     "name": "stderr",
     "output_type": "stream",
     "text": [
      "C:\\Users\\Public\\Documents\\ESTsoft\\CreatorTemp\\ipykernel_12620\\3368007567.py:12: UserWarning: pandas only supports SQLAlchemy connectable (engine/connection) or database string URI or sqlite3 DBAPI2 connection. Other DBAPI2 objects are not tested. Please consider using SQLAlchemy.\n",
      "  movie_df = pd.read_sql(query, con=connection)\n"
     ]
    },
    {
     "name": "stdout",
     "output_type": "stream",
     "text": [
      "INFO:     127.0.0.1:0 - \"POST /movie/movie_recommend HTTP/1.1\" 200 OK\n"
     ]
    },
    {
     "name": "stderr",
     "output_type": "stream",
     "text": [
      "C:\\Users\\Public\\Documents\\ESTsoft\\CreatorTemp\\ipykernel_12620\\3368007567.py:12: UserWarning: pandas only supports SQLAlchemy connectable (engine/connection) or database string URI or sqlite3 DBAPI2 connection. Other DBAPI2 objects are not tested. Please consider using SQLAlchemy.\n",
      "  movie_df = pd.read_sql(query, con=connection)\n"
     ]
    },
    {
     "name": "stdout",
     "output_type": "stream",
     "text": [
      "INFO:     127.0.0.1:0 - \"POST /movie/movie_recommend HTTP/1.1\" 200 OK\n"
     ]
    },
    {
     "name": "stderr",
     "output_type": "stream",
     "text": [
      "C:\\Users\\Public\\Documents\\ESTsoft\\CreatorTemp\\ipykernel_12620\\3368007567.py:12: UserWarning: pandas only supports SQLAlchemy connectable (engine/connection) or database string URI or sqlite3 DBAPI2 connection. Other DBAPI2 objects are not tested. Please consider using SQLAlchemy.\n",
      "  movie_df = pd.read_sql(query, con=connection)\n"
     ]
    },
    {
     "name": "stdout",
     "output_type": "stream",
     "text": [
      "INFO:     127.0.0.1:0 - \"POST /movie/movie_recommend HTTP/1.1\" 200 OK\n"
     ]
    },
    {
     "name": "stderr",
     "output_type": "stream",
     "text": [
      "C:\\Users\\Public\\Documents\\ESTsoft\\CreatorTemp\\ipykernel_12620\\3368007567.py:12: UserWarning: pandas only supports SQLAlchemy connectable (engine/connection) or database string URI or sqlite3 DBAPI2 connection. Other DBAPI2 objects are not tested. Please consider using SQLAlchemy.\n",
      "  movie_df = pd.read_sql(query, con=connection)\n"
     ]
    },
    {
     "name": "stdout",
     "output_type": "stream",
     "text": [
      "INFO:     127.0.0.1:0 - \"POST /movie/movie_recommend HTTP/1.1\" 200 OK\n"
     ]
    },
    {
     "name": "stderr",
     "output_type": "stream",
     "text": [
      "C:\\Users\\Public\\Documents\\ESTsoft\\CreatorTemp\\ipykernel_12620\\3368007567.py:12: UserWarning: pandas only supports SQLAlchemy connectable (engine/connection) or database string URI or sqlite3 DBAPI2 connection. Other DBAPI2 objects are not tested. Please consider using SQLAlchemy.\n",
      "  movie_df = pd.read_sql(query, con=connection)\n"
     ]
    },
    {
     "name": "stdout",
     "output_type": "stream",
     "text": [
      "INFO:     127.0.0.1:0 - \"POST /movie/movie_recommend HTTP/1.1\" 200 OK\n"
     ]
    },
    {
     "name": "stderr",
     "output_type": "stream",
     "text": [
      "C:\\Users\\Public\\Documents\\ESTsoft\\CreatorTemp\\ipykernel_12620\\3368007567.py:12: UserWarning: pandas only supports SQLAlchemy connectable (engine/connection) or database string URI or sqlite3 DBAPI2 connection. Other DBAPI2 objects are not tested. Please consider using SQLAlchemy.\n",
      "  movie_df = pd.read_sql(query, con=connection)\n"
     ]
    },
    {
     "name": "stdout",
     "output_type": "stream",
     "text": [
      "INFO:     127.0.0.1:0 - \"POST /movie/movie_recommend HTTP/1.1\" 200 OK\n"
     ]
    },
    {
     "name": "stderr",
     "output_type": "stream",
     "text": [
      "C:\\Users\\Public\\Documents\\ESTsoft\\CreatorTemp\\ipykernel_12620\\3368007567.py:12: UserWarning: pandas only supports SQLAlchemy connectable (engine/connection) or database string URI or sqlite3 DBAPI2 connection. Other DBAPI2 objects are not tested. Please consider using SQLAlchemy.\n",
      "  movie_df = pd.read_sql(query, con=connection)\n"
     ]
    },
    {
     "name": "stdout",
     "output_type": "stream",
     "text": [
      "INFO:     127.0.0.1:0 - \"POST /movie/movie_recommend HTTP/1.1\" 200 OK\n"
     ]
    },
    {
     "name": "stderr",
     "output_type": "stream",
     "text": [
      "C:\\Users\\Public\\Documents\\ESTsoft\\CreatorTemp\\ipykernel_12620\\3368007567.py:12: UserWarning: pandas only supports SQLAlchemy connectable (engine/connection) or database string URI or sqlite3 DBAPI2 connection. Other DBAPI2 objects are not tested. Please consider using SQLAlchemy.\n",
      "  movie_df = pd.read_sql(query, con=connection)\n"
     ]
    },
    {
     "name": "stdout",
     "output_type": "stream",
     "text": [
      "INFO:     127.0.0.1:0 - \"POST /movie/movie_recommend HTTP/1.1\" 200 OK\n"
     ]
    },
    {
     "name": "stderr",
     "output_type": "stream",
     "text": [
      "C:\\Users\\Public\\Documents\\ESTsoft\\CreatorTemp\\ipykernel_12620\\3368007567.py:12: UserWarning: pandas only supports SQLAlchemy connectable (engine/connection) or database string URI or sqlite3 DBAPI2 connection. Other DBAPI2 objects are not tested. Please consider using SQLAlchemy.\n",
      "  movie_df = pd.read_sql(query, con=connection)\n"
     ]
    },
    {
     "name": "stdout",
     "output_type": "stream",
     "text": [
      "INFO:     127.0.0.1:0 - \"POST /movie/movie_recommend HTTP/1.1\" 200 OK\n"
     ]
    },
    {
     "name": "stderr",
     "output_type": "stream",
     "text": [
      "C:\\Users\\Public\\Documents\\ESTsoft\\CreatorTemp\\ipykernel_12620\\3368007567.py:12: UserWarning: pandas only supports SQLAlchemy connectable (engine/connection) or database string URI or sqlite3 DBAPI2 connection. Other DBAPI2 objects are not tested. Please consider using SQLAlchemy.\n",
      "  movie_df = pd.read_sql(query, con=connection)\n"
     ]
    },
    {
     "name": "stdout",
     "output_type": "stream",
     "text": [
      "INFO:     127.0.0.1:0 - \"POST /movie/movie_recommend HTTP/1.1\" 200 OK\n"
     ]
    },
    {
     "name": "stderr",
     "output_type": "stream",
     "text": [
      "C:\\Users\\Public\\Documents\\ESTsoft\\CreatorTemp\\ipykernel_12620\\3368007567.py:12: UserWarning: pandas only supports SQLAlchemy connectable (engine/connection) or database string URI or sqlite3 DBAPI2 connection. Other DBAPI2 objects are not tested. Please consider using SQLAlchemy.\n",
      "  movie_df = pd.read_sql(query, con=connection)\n"
     ]
    },
    {
     "name": "stdout",
     "output_type": "stream",
     "text": [
      "INFO:     127.0.0.1:0 - \"POST /movie/movie_recommend HTTP/1.1\" 200 OK\n"
     ]
    },
    {
     "name": "stderr",
     "output_type": "stream",
     "text": [
      "C:\\Users\\Public\\Documents\\ESTsoft\\CreatorTemp\\ipykernel_12620\\3368007567.py:12: UserWarning: pandas only supports SQLAlchemy connectable (engine/connection) or database string URI or sqlite3 DBAPI2 connection. Other DBAPI2 objects are not tested. Please consider using SQLAlchemy.\n",
      "  movie_df = pd.read_sql(query, con=connection)\n"
     ]
    },
    {
     "name": "stdout",
     "output_type": "stream",
     "text": [
      "INFO:     127.0.0.1:0 - \"POST /movie/movie_recommend HTTP/1.1\" 200 OK\n"
     ]
    },
    {
     "name": "stderr",
     "output_type": "stream",
     "text": [
      "C:\\Users\\Public\\Documents\\ESTsoft\\CreatorTemp\\ipykernel_12620\\3368007567.py:12: UserWarning: pandas only supports SQLAlchemy connectable (engine/connection) or database string URI or sqlite3 DBAPI2 connection. Other DBAPI2 objects are not tested. Please consider using SQLAlchemy.\n",
      "  movie_df = pd.read_sql(query, con=connection)\n"
     ]
    }
   ],
   "source": [
    "uvicorn.run(app, host=\"0.0.0.0\", port = 7070)"
   ]
  },
  {
   "cell_type": "code",
   "execution_count": null,
   "id": "93a68197-d0bf-4c84-bbfb-374a18d9a0d0",
   "metadata": {},
   "outputs": [],
   "source": []
  }
 ],
 "metadata": {
  "kernelspec": {
   "display_name": "Python 3 (ipykernel)",
   "language": "python",
   "name": "python3"
  },
  "language_info": {
   "codemirror_mode": {
    "name": "ipython",
    "version": 3
   },
   "file_extension": ".py",
   "mimetype": "text/x-python",
   "name": "python",
   "nbconvert_exporter": "python",
   "pygments_lexer": "ipython3",
   "version": "3.10.16"
  }
 },
 "nbformat": 4,
 "nbformat_minor": 5
}
